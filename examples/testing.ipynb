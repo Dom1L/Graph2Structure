{
 "cells": [
  {
   "cell_type": "code",
   "execution_count": 1,
   "metadata": {
    "pycharm": {
     "name": "#%%\n"
    }
   },
   "outputs": [
    {
     "name": "stderr",
     "output_type": "stream",
     "text": [
      "RDKit WARNING: [15:09:54] Enabling RDKit 2019.09.3 jupyter extensions\n"
     ]
    }
   ],
   "source": [
    "from glob import glob\n",
    "\n",
    "from tqdm import tqdm\n",
    "import numpy as np\n",
    "\n",
    "import g2s"
   ]
  },
  {
   "cell_type": "code",
   "execution_count": 3,
   "metadata": {
    "pycharm": {
     "name": "#%%\n"
    }
   },
   "outputs": [],
   "source": [
    "ci_mols = sorted(glob('/Users/c0uch1/work/g2g_data/rxn_dset/min_xyz/*'))"
   ]
  },
  {
   "cell_type": "code",
   "execution_count": 4,
   "metadata": {},
   "outputs": [],
   "source": [
    "# max_atoms = 0\n",
    "# for i in tqdm(range(len(ci_mols))):\n",
    "#     _, nc, _ = g2s.graph_extractor.xyz2mol_graph(ci_mols[i], get_chirality=False)\n",
    "#     n_heavy_atoms = len(np.where(np.array(nc) != 1)[0])\n",
    "#     max_atoms = n_heavy_atoms if n_heavy_atoms > max_atoms else max_atoms"
   ]
  },
  {
   "cell_type": "code",
   "execution_count": 5,
   "metadata": {
    "pycharm": {
     "name": "#%%\n"
    }
   },
   "outputs": [
    {
     "name": "stderr",
     "output_type": "stream",
     "text": [
      "  0%|          | 0/1871 [00:00<?, ?it/s]/Users/c0uch1/github/Graph2Structure/g2s/representations/hydrogens.py:37: VisibleDeprecationWarning: Creating an ndarray from ragged nested sequences (which is a list-or-tuple of lists-or-tuples-or ndarrays with different lengths or shapes) is deprecated. If you meant to do this, you must specify 'dtype=object' when creating the ndarray\n",
      "  return np.array(local_h_repr), np.array(heavy_hydrogen_mapping), np.array(hydrogen_heavy_distances)\n",
      "100%|██████████| 1871/1871 [00:20<00:00, 92.01it/s] \n",
      "/Users/c0uch1/.miniconda3/envs/wk/lib/python3.7/site-packages/ipykernel_launcher.py:22: VisibleDeprecationWarning: Creating an ndarray from ragged nested sequences (which is a list-or-tuple of lists-or-tuples-or ndarrays with different lengths or shapes) is deprecated. If you meant to do this, you must specify 'dtype=object' when creating the ndarray\n",
      "/Users/c0uch1/.miniconda3/envs/wk/lib/python3.7/site-packages/ipykernel_launcher.py:24: VisibleDeprecationWarning: Creating an ndarray from ragged nested sequences (which is a list-or-tuple of lists-or-tuples-or ndarrays with different lengths or shapes) is deprecated. If you meant to do this, you must specify 'dtype=object' when creating the ndarray\n",
      "/Users/c0uch1/.miniconda3/envs/wk/lib/python3.7/site-packages/ipykernel_launcher.py:25: VisibleDeprecationWarning: Creating an ndarray from ragged nested sequences (which is a list-or-tuple of lists-or-tuples-or ndarrays with different lengths or shapes) is deprecated. If you meant to do this, you must specify 'dtype=object' when creating the ndarray\n",
      "/Users/c0uch1/.miniconda3/envs/wk/lib/python3.7/site-packages/ipykernel_launcher.py:26: VisibleDeprecationWarning: Creating an ndarray from ragged nested sequences (which is a list-or-tuple of lists-or-tuples-or ndarrays with different lengths or shapes) is deprecated. If you meant to do this, you must specify 'dtype=object' when creating the ndarray\n"
     ]
    }
   ],
   "source": [
    "representations = []\n",
    "nuclear_charges = []\n",
    "distances = []\n",
    "local_hydrogen = []\n",
    "heavy_hydrogen_mapping = []\n",
    "hydrogen_heavy_dist = []\n",
    "for i in tqdm(range(len(ci_mols))):\n",
    "    bond_order_matrix, nc, coords = g2s.graph_extractor.xyz2mol_graph(ci_mols[i], get_chirality=False)\n",
    "    dist = g2s.utils.calculate_distances(coords)\n",
    "    gc = g2s.GraphCompound(bond_order_matrix, nc, dist)\n",
    "    gc.filter_atoms('heavy')\n",
    "    gc.generate_bond_length(size=15, sorting='norm-row')\n",
    "    gc.generate_local_hydrogen_matrix()\n",
    "    representations.append(gc.representation)\n",
    "    nuclear_charges.append(gc.nuclear_charges)\n",
    "    distances.append(gc.distances)\n",
    "    local_hydrogen.append(gc.hydrogen_representations)\n",
    "    heavy_hydrogen_mapping.append(gc.heavy_hydrogen_mapping)\n",
    "    hydrogen_heavy_dist.append(gc.hydrogen_heavy_distances)\n",
    "\n",
    "representations = np.array(representations)\n",
    "nuclear_charges = np.array(nuclear_charges)\n",
    "distances = np.array(distances)\n",
    "local_hydrogen = np.array(local_hydrogen)\n",
    "heavy_hydrogen_mapping = np.array(heavy_hydrogen_mapping)\n",
    "hydrogen_heavy_dist = np.array(hydrogen_heavy_dist)"
   ]
  },
  {
   "cell_type": "code",
   "execution_count": 6,
   "metadata": {
    "pycharm": {
     "name": "#%%\n"
    }
   },
   "outputs": [
    {
     "name": "stderr",
     "output_type": "stream",
     "text": [
      "100%|██████████| 105/105 [00:00<00:00, 484.27it/s]\n"
     ]
    }
   ],
   "source": [
    "train_kernel = g2s.krr.laplacian_kernel(representations, representations, 32)\n",
    "train_kernel[np.diag_indices_from(train_kernel)] += 1e-5\n",
    "alphas = g2s.krr.train_multikernel(train_kernel, distances)\n",
    "\n",
    "pred_distances = g2s.krr.predict_distances(train_kernel, alphas)"
   ]
  },
  {
   "cell_type": "code",
   "execution_count": 7,
   "metadata": {},
   "outputs": [
    {
     "name": "stderr",
     "output_type": "stream",
     "text": [
      "100%|██████████| 5/5 [00:00<00:00, 64.94it/s]\n"
     ]
    }
   ],
   "source": [
    "hydrogen_representation = np.vstack(local_hydrogen)\n",
    "hydrogen_distances = np.vstack(hydrogen_heavy_dist)\n",
    "\n",
    "train_kernel = g2s.krr.laplacian_kernel(hydrogen_representation, hydrogen_representation, 32)\n",
    "train_kernel[np.diag_indices_from(train_kernel)] += 1e-7\n",
    "alphas = g2s.krr.train_multikernel(train_kernel, hydrogen_distances)\n",
    "\n",
    "pred_hydrogen_distances = g2s.krr.predict_distances(train_kernel, alphas)"
   ]
  },
  {
   "cell_type": "code",
   "execution_count": 8,
   "metadata": {
    "pycharm": {
     "name": "#%%\n"
    }
   },
   "outputs": [],
   "source": [
    "fpred_distances = g2s.utils.filter_nonzero_distances(pred_distances, nuclear_charges)"
   ]
  },
  {
   "cell_type": "code",
   "execution_count": 48,
   "metadata": {
    "pycharm": {
     "name": "#%%\n"
    }
   },
   "outputs": [],
   "source": [
    "dgsol = g2s.dgeom.DGSOL(fpred_distances, nuclear_charges, vectorized_input=False)"
   ]
  },
  {
   "cell_type": "code",
   "execution_count": 49,
   "metadata": {
    "pycharm": {
     "name": "#%%\n"
    }
   },
   "outputs": [
    {
     "name": "stderr",
     "output_type": "stream",
     "text": [
      "100%|██████████| 1871/1871 [01:28<00:00, 21.16it/s]\n"
     ]
    }
   ],
   "source": [
    "dgsol.solve_distance_geometry('/Users/c0uch1/g2s_example/test')"
   ]
  },
  {
   "cell_type": "code",
   "execution_count": 23,
   "metadata": {
    "pycharm": {
     "name": "#%%\n"
    }
   },
   "outputs": [],
   "source": [
    "import quadpy\n",
    "import numpy as np\n",
    "\n",
    "\n",
    "scheme = quadpy.sphere.lebedev_131()\n",
    "\n",
    "\n",
    "def lebedev_sphere_opt(bond, points_distances, origin):\n",
    "    \"\"\" Assumes that the bonded atom is in the origin, the other two are at pos1, pos2 with proton distances d1 and d2, respectively.\"\"\"\n",
    "    candidate_positions = scheme.points * bond\n",
    "    deltas = np.sum(\n",
    "        [(np.linalg.norm(candidate_positions - (pos - origin), axis=1) - dist) ** 2 for pos, dist in points_distances],\n",
    "        axis=0)\n",
    "    return candidate_positions[np.argmin(deltas)] + origin\n",
    "\n",
    "\n",
    "def get_hydrogen_positions(positions, distances, n_hydrogens):\n",
    "    h_h_distance = distances[-1]\n",
    "    pos_1 = positions[0]\n",
    "    dist_1 = distances[0]\n",
    "    pos_hydr_1 = lebedev_sphere_opt(bond=dist_1, origin=pos_1, points_distances=zip(positions[1:], distances[1:-1]))\n",
    "    if n_hydrogens > 1:\n",
    "        p_dist_pairs = list(zip(positions[1:-1], distances[1:-2])) if len(positions) > 2 else list(zip(positions[1], distances[1]))\n",
    "        p_dist_pairs.append((pos_hydr_1, h_h_distance))\n",
    "        pos_hydr_2 = lebedev_sphere_opt(bond=dist_1, origin=pos_1, points_distances=p_dist_pairs)\n",
    "    else:\n",
    "        pos_hydr_2 = None\n",
    "    if n_hydrogens == 3:\n",
    "        p_dist_pairs = [(positions[1], distances[1]), (pos_hydr_1, h_h_distance), (pos_hydr_2, h_h_distance)]\n",
    "        pos_hydr_3 = lebedev_sphere_opt(bond=dist_1, origin=pos_1, points_distances=p_dist_pairs)\n",
    "    else:\n",
    "        pos_hydr_3 = None\n",
    "    return pos_hydr_1, pos_hydr_2, pos_hydr_3\n",
    "\n",
    "\n",
    "def hydrogen_reconstruction(heavy_atom_coords, predicted_h_distances, heavy_atom_hydrogen_mapping):\n",
    "    hydrogen_coords = []\n",
    "    for i in range(len(heavy_atom_hydrogen_mapping)):\n",
    "        n_hydrogens = len(heavy_atom_hydrogen_mapping[i][1])\n",
    "        nbh_idxs = heavy_atom_hydrogen_mapping[i][2]\n",
    "        center_atom_idx = heavy_atom_hydrogen_mapping[i][0]\n",
    "        first_hydrogen_idx = heavy_atom_hydrogen_mapping[i][1][0]\n",
    "        pred_positions = heavy_atom_coords[np.array([center_atom_idx, *nbh_idxs])]\n",
    "        pred_h_distances = predicted_h_distances[i]\n",
    "\n",
    "        pos_hydr_1, pos_hydr_2, pos_hydr_3 = get_hydrogen_positions(pred_positions, pred_h_distances, n_hydrogens=n_hydrogens)\n",
    "        hydrogen_coords.append(pos_hydr_1)\n",
    "        if pos_hydr_2 is not None:\n",
    "            hydrogen_coords.append(pos_hydr_2)\n",
    "        if pos_hydr_3 is not None:\n",
    "            hydrogen_coords.append(pos_hydr_3)\n",
    "    return np.array(hydrogen_coords)\n",
    "\n"
   ]
  },
  {
   "cell_type": "code",
   "execution_count": 148,
   "metadata": {},
   "outputs": [],
   "source": [
    "for i, e in enumerate(sorted(glob('/Users/c0uch1/g2s_example/test/*'))):\n",
    "    if heavy_hydrogen_mapping[i].size > 0.:\n",
    "        h_coords = hydrogen_reconstruction(dgsol.coords[i], hydrogen_heavy_dist[i], heavy_hydrogen_mapping[i])\n",
    "        heavy_c, all_nc = combine_heavy_hydrogen_coords(dgsol.coords[i],h_coords, nuclear_charges[i])\n",
    "        write_xyz(f'{e}/dgsol_h.xyz', heavy_c, all_nc)\n",
    "    else:\n",
    "        write_xyz(f'{e}/dgsol_h.xyz', dgsol.coords[i], nuclear_charges[i])\n"
   ]
  },
  {
   "cell_type": "code",
   "execution_count": 146,
   "metadata": {},
   "outputs": [
    {
     "data": {
      "text/plain": [
       "6"
      ]
     },
     "execution_count": 146,
     "metadata": {},
     "output_type": "execute_result"
    }
   ],
   "source": []
  },
  {
   "cell_type": "code",
   "execution_count": 42,
   "metadata": {},
   "outputs": [],
   "source": [
    "from g2s.constants import periodic_table\n",
    "\n",
    "def write_xyz(outname, coords, elements, element_input='nuclear_charges'):\n",
    "    if element_input == 'nuclear_charges':\n",
    "        elements = [periodic_table[int(nc)] for nc in elements]\n",
    "    with open(f'{outname}', 'w') as outfile:\n",
    "        outfile.write(f'{len(elements)}\\n')\n",
    "        outfile.write('\\n')\n",
    "        for xyz, nc in zip(coords, elements):\n",
    "            outfile.write(f'{nc}\\t{xyz[0]}\\t{xyz[1]}\\t{xyz[2]}\\n')\n",
    "\n",
    "def combine_heavy_hydrogen_coords(heavy_coords, hydrogen_coords, heavy_nuclear_charges):\n",
    "    return np.vstack((heavy_coords, hydrogen_coords)), np.array([*heavy_nuclear_charges, *[1]*len(hydrogen_coords)])\n"
   ]
  },
  {
   "cell_type": "code",
   "execution_count": 81,
   "metadata": {},
   "outputs": [],
   "source": [
    "from rdkit import Chem\n",
    "from rdkit.Geometry import Point3D\n"
   ]
  },
  {
   "cell_type": "code",
   "execution_count": 160,
   "metadata": {},
   "outputs": [],
   "source": [
    "def graph_to_rdkit(elements, adjacency_matrix):\n",
    "    # Blatantly adapted from https://stackoverflow.com/questions/51195392/smiles-from-graph\n",
    "\n",
    "    # create empty editable mol object\n",
    "    mol = Chem.RWMol()\n",
    "\n",
    "    # add atoms to mol and keep track of index\n",
    "    node_to_idx = {}\n",
    "    for i in range(len(elements)):\n",
    "        a = Chem.Atom(elements[i])\n",
    "        mol_idx = mol.AddAtom(a)\n",
    "        node_to_idx[i] = mol_idx\n",
    "\n",
    "    # add bonds between adjacent atoms\n",
    "    for ix, row in enumerate(adjacency_matrix):\n",
    "        for iy, bond in enumerate(row):\n",
    "\n",
    "            # only traverse half the matrix\n",
    "            if iy <= ix:\n",
    "                continue\n",
    "\n",
    "            # add relevant bond type (there are many more of these)\n",
    "            if bond == 0:\n",
    "                continue\n",
    "            elif bond == 1:\n",
    "                bond_type = Chem.rdchem.BondType.SINGLE\n",
    "                mol.AddBond(node_to_idx[ix], node_to_idx[iy], bond_type)\n",
    "            elif bond == 2:\n",
    "                bond_type = Chem.rdchem.BondType.DOUBLE\n",
    "                mol.AddBond(node_to_idx[ix], node_to_idx[iy], bond_type)\n",
    "            elif bond == 3:\n",
    "                bond_type = Chem.rdchem.BondType.Triple\n",
    "                mol.AddBond(node_to_idx[ix], node_to_idx[iy], bond_type)\n",
    "\n",
    "    # Convert RWMol to Mol object\n",
    "    mol = mol.GetMol()\n",
    "    Chem.SanitizeMol(mol)\n",
    "    return mol\n",
    "\n",
    "\n",
    "def embed_hydrogens(adjacency_matrix, nuclear_charges, heavy_atom_coords):\n",
    "    elements = [periodic_table[nc] for nc in nuclear_charges]\n",
    "    mol = graph_to_rdkit(elements, adjacency_matrix)\n",
    "\n",
    "    # Generate some 2D coords, otherwise GetConformer is empty\n",
    "    Chem.rdDepictor.Compute2DCoords(mol)\n",
    "    conf = mol.GetConformer()\n",
    "\n",
    "    # Set Coordinates\n",
    "    for i in range(mol.GetNumAtoms()):\n",
    "        x, y, z = heavy_atom_coords[i]\n",
    "        conf.SetAtomPosition(i, Point3D(x, y, z))\n",
    "\n",
    "    # Coord map fixes indices/coords during embedding\n",
    "    coord_map = {i: mol.GetConformer().GetAtomPosition(i) for i in range(len(heavy_atom_coords))}\n",
    "    mol_h = Chem.AddHs(mol)\n",
    "\n",
    "    Chem.AllChem.EmbedMolecule(mol_h, coordMap=coord_map, useRandomCoords=True)\n",
    "\n",
    "    embedded_coords = mol_h.GetConformer().GetPositions()\n",
    "    embedded_nuclear_charges = [periodic_table.index(atom.GetSymbol()) for atom in mol_h.GetAtoms()]\n",
    "\n",
    "    return embedded_coords, embedded_nuclear_charges\n"
   ]
  },
  {
   "cell_type": "code",
   "execution_count": 161,
   "metadata": {},
   "outputs": [],
   "source": [
    "coords, nc = embed_hydrogens(gc.adjacency_matrix, gc.nuclear_charges, dgsol.coords[-1])"
   ]
  },
  {
   "cell_type": "code",
   "execution_count": 157,
   "metadata": {},
   "outputs": [],
   "source": [
    "# from g2s.constants import periodic_table\n",
    "# elements = [periodic_table[nc] for nc in gc.nuclear_charges]"
   ]
  },
  {
   "cell_type": "code",
   "execution_count": 163,
   "metadata": {},
   "outputs": [],
   "source": [
    "\n",
    "write_xyz('/Users/c0uch1/g2s_example/test/1870/rdkit.xyz', coords , nc, element_input='nulear_charges')"
   ]
  },
  {
   "cell_type": "code",
   "execution_count": 162,
   "metadata": {},
   "outputs": [
    {
     "data": {
      "text/plain": [
       "array([[ 1.33472675, -0.47439447,  1.43402831],\n",
       "       [-1.30999509, -0.87824307,  2.04038499],\n",
       "       [-0.71712658,  1.284657  ,  0.96379199],\n",
       "       [-0.12279427, -0.11120553, -1.37436818],\n",
       "       [-0.68718356, -2.16955979, -0.34991117],\n",
       "       [-0.54396539, -0.16027251,  1.03044466],\n",
       "       [-0.91056633, -0.74158746, -0.33940968],\n",
       "       [-1.69016001, -0.17105456,  2.70462043],\n",
       "       [-2.1022995 , -1.38372116,  1.60717842],\n",
       "       [-0.43266785,  1.54768634,  0.01437858],\n",
       "       [-0.10479872,  1.72244634,  1.70400413],\n",
       "       [ 0.83031574,  0.11652555, -1.03753139],\n",
       "       [-0.60311797,  0.68691482, -1.82675536],\n",
       "       [ 0.16218357, -2.41359295,  0.2040279 ],\n",
       "       [-1.49303972, -2.71883865,  0.00307187],\n",
       "       [-1.95977745, -0.48013388, -0.50777005]])"
      ]
     },
     "execution_count": 162,
     "metadata": {},
     "output_type": "execute_result"
    }
   ],
   "source": [
    "coords"
   ]
  },
  {
   "cell_type": "code",
   "execution_count": 144,
   "metadata": {},
   "outputs": [
    {
     "data": {
      "text/plain": [
       "[35, 7, 7, 7, 7, 6, 6, 1, 1, 1, 1, 1, 1, 1, 1, 1]"
      ]
     },
     "execution_count": 144,
     "metadata": {},
     "output_type": "execute_result"
    }
   ],
   "source": [
    "nc"
   ]
  },
  {
   "cell_type": "code",
   "execution_count": null,
   "metadata": {},
   "outputs": [],
   "source": []
  }
 ],
 "metadata": {
  "kernelspec": {
   "display_name": "Python 3",
   "language": "python",
   "name": "python3"
  },
  "language_info": {
   "codemirror_mode": {
    "name": "ipython",
    "version": 3
   },
   "file_extension": ".py",
   "mimetype": "text/x-python",
   "name": "python",
   "nbconvert_exporter": "python",
   "pygments_lexer": "ipython3",
   "version": "3.7.6"
  }
 },
 "nbformat": 4,
 "nbformat_minor": 1
}
