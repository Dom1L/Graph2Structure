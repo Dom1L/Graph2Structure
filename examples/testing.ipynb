{
 "cells": [
  {
   "cell_type": "code",
   "execution_count": 1,
   "metadata": {
    "pycharm": {
     "name": "#%%\n"
    }
   },
   "outputs": [],
   "source": [
    "from glob import glob\n",
    "\n",
    "import numpy as np\n",
    "from tqdm import tqdm\n",
    "\n",
    "import g2s\n",
    "from g2s.graph_extractor import xyz2mol_graph\n",
    "from g2s.representations.locality import get_local_environment, construct_sparse_dm"
   ]
  },
  {
   "cell_type": "code",
   "execution_count": 2,
   "metadata": {},
   "outputs": [],
   "source": [
    "ci_path = sorted(glob('/data/lemm/g2s/const_isomers/*.xyz'))"
   ]
  },
  {
   "cell_type": "code",
   "execution_count": 3,
   "metadata": {},
   "outputs": [],
   "source": [
    "def prep_data(filepath):\n",
    "    bond_order_matrix, nuclear_charges, coords = xyz2mol_graph(filepath)\n",
    "\n",
    "    distances = g2s.utils.calculate_distances(coords)\n",
    "    gc = g2s.GraphCompound(bond_order_matrix, nuclear_charges, distances)\n",
    "    gc.generate_bond_length(size=19, sorting='norm_row')\n",
    "\n",
    "    representation = gc.representation\n",
    "    adjacency = gc.adjacency_matrix\n",
    "    nuclear_charges = gc.nuclear_charges\n",
    "    distances = gc.distances\n",
    "\n",
    "    representation = g2s.utils.vector_to_square([representation])[0]\n",
    "    distances = g2s.utils.vector_to_square([distances])[0]\n",
    "\n",
    "    hydrogen_idxs = np.where(nuclear_charges == 1)[0]\n",
    "    heavy_atom_idxs = np.where(nuclear_charges != 1)[0]\n",
    "\n",
    "    ha_representation = representation[heavy_atom_idxs][:, heavy_atom_idxs]\n",
    "    hy_representation = representation[hydrogen_idxs][:, heavy_atom_idxs]\n",
    "\n",
    "    ha_dm = distances[heavy_atom_idxs][:, heavy_atom_idxs]\n",
    "    ha_nc = nuclear_charges[heavy_atom_idxs]\n",
    "\n",
    "    ha_local_repr = []\n",
    "    ha_local_nc = []\n",
    "    ha_local_dist = []\n",
    "    ha_local_idxs = []\n",
    "\n",
    "    hy_local_repr = []\n",
    "    hy_local_nc = []\n",
    "    hy_local_dist = []\n",
    "    hy_local_idxs = []\n",
    "\n",
    "    for i in range(len(heavy_atom_idxs)):\n",
    "        atomic_representation, local_nuclear_charges, local_idxs, local_distances = get_local_environment(i, ha_representation, ha_nc, ha_dm, n_neighs=3)\n",
    "        ha_local_repr.append(atomic_representation)\n",
    "        ha_local_dist.append(local_distances)\n",
    "        ha_local_nc.append(local_nuclear_charges)\n",
    "        ha_local_idxs.append(local_idxs)\n",
    "\n",
    "    for i in hydrogen_idxs:\n",
    "        hydro_atomic_representation, hydro_local_nuclear_charges, hydro_local_idxs, hydro_local_distances = get_local_environment(i, representation, nuclear_charges, distances, n_neighs=4)\n",
    "        hy_local_repr.append(hydro_atomic_representation)\n",
    "        hy_local_nc.append(hydro_local_nuclear_charges)\n",
    "        hy_local_dist.append(hydro_local_distances)\n",
    "        hy_local_idxs.append(hydro_local_idxs)\n",
    "        \n",
    "    mol_data = {'ha_lr': ha_local_repr,\n",
    "                'ha_lnc': ha_local_nc,\n",
    "                'ha_ldist': ha_local_dist,\n",
    "                'ha_lidxs': ha_local_idxs,\n",
    "                'hy_lr': hy_local_repr,\n",
    "                'hy_lnc': hy_local_nc,\n",
    "                'hy_ldist': hy_local_dist,\n",
    "                'hy_lidxs': hy_local_idxs,\n",
    "                'nuclear_charges': nuclear_charges,\n",
    "                'heavy_atom_idxs': heavy_atom_idxs,\n",
    "                'hydrogen_idxs': hydrogen_idxs,\n",
    "                'full_dm': distances}\n",
    "   \n",
    "    return mol_data\n",
    "\n",
    "def get_unique_environments(local_environments, local_idxs, local_distances=None):\n",
    "    uq_env = {}\n",
    "    for i, r in enumerate(local_environments):\n",
    "        if tuple(r) not in uq_env.keys():\n",
    "            uq_env[tuple(r)] = {'local_idxs': [],\n",
    "                                'local_dist': []}\n",
    "        uq_env[tuple(r)]['local_idxs'].append(local_idxs[i])\n",
    "        if local_distances is not None:\n",
    "            uq_env[tuple(r)]['local_dist'].append(local_distances[i])\n",
    "\n",
    "    if local_distances is not None:\n",
    "\n",
    "        for k in uq_env.keys():\n",
    "            uq_env[k]['avg_dist'] = np.array(uq_env[k]['local_dist']).mean(axis=0)\n",
    "    return uq_env\n",
    "\n",
    "    "
   ]
  },
  {
   "cell_type": "code",
   "execution_count": 4,
   "metadata": {},
   "outputs": [
    {
     "name": "stderr",
     "output_type": "stream",
     "text": [
      "100%|██████████| 6095/6095 [00:22<00:00, 274.45it/s]\n"
     ]
    }
   ],
   "source": [
    "mol_envs = []\n",
    "\n",
    "for ci in tqdm(ci_path):\n",
    "    mol_envs.append(prep_data(ci))"
   ]
  },
  {
   "cell_type": "code",
   "execution_count": 5,
   "metadata": {},
   "outputs": [],
   "source": [
    "ha_lr = [mol_envs[i]['ha_lr'] for i in range(len(mol_envs))]\n",
    "hy_lr = [mol_envs[i]['hy_lr'] for i in range(len(mol_envs))]\n",
    "ha_lidxs = [mol_envs[i]['ha_lidxs'] for i in range(len(mol_envs))]\n",
    "hy_lidxs = [mol_envs[i]['hy_lidxs'] for i in range(len(mol_envs))]\n",
    "ha_ldist = [mol_envs[i]['ha_ldist'] for i in range(len(mol_envs))]\n",
    "hy_ldist = [mol_envs[i]['hy_ldist'] for i in range(len(mol_envs))]"
   ]
  },
  {
   "cell_type": "code",
   "execution_count": 6,
   "metadata": {},
   "outputs": [],
   "source": [
    "uq_ha_env = get_unique_environments(np.vstack(ha_lr), np.vstack(ha_lidxs), local_distances=np.vstack(ha_ldist))\n",
    "uq_hy_env = get_unique_environments(np.vstack(hy_lr), np.vstack(hy_lidxs), local_distances=np.vstack(hy_ldist))"
   ]
  },
  {
   "cell_type": "code",
   "execution_count": 7,
   "metadata": {},
   "outputs": [],
   "source": [
    "training_ha_envs = []\n",
    "training_ha_labels = []\n",
    "\n",
    "training_hy_envs = []\n",
    "training_hy_labels = []\n",
    "\n",
    "for k in uq_ha_env.keys():\n",
    "    training_ha_envs.append(k)\n",
    "    training_ha_labels.append(uq_ha_env[k]['avg_dist'])\n",
    "    \n",
    "\n",
    "for k in uq_hy_env.keys():\n",
    "    training_hy_envs.append(k)\n",
    "    training_hy_labels.append(uq_hy_env[k]['avg_dist'])\n",
    "    \n",
    "training_ha_envs = np.array(training_ha_envs)\n",
    "training_ha_labels = np.array(training_ha_labels)\n",
    "training_hy_envs = np.array(training_hy_envs)\n",
    "training_hy_labels = np.array(training_hy_labels)"
   ]
  },
  {
   "cell_type": "code",
   "execution_count": 71,
   "metadata": {},
   "outputs": [
    {
     "name": "stderr",
     "output_type": "stream",
     "text": [
      "100%|██████████| 6/6 [00:00<00:00, 8968.58it/s]\n"
     ]
    }
   ],
   "source": [
    "kernel_sigma = 32\n",
    "kernel_lambda = 1e-5\n",
    "\n",
    "train_kernel = g2s.krr.laplacian_kernel(training_envs, training_envs, 32)\n",
    "train_kernel[np.diag_indices_from(train_kernel)] += 1e-5\n",
    "alphas = g2s.krr.train_multikernel(train_kernel, training_labels)\n",
    "\n",
    "pred_distances = g2s.krr.predict_distances(train_kernel, alphas)"
   ]
  },
  {
   "cell_type": "code",
   "execution_count": 98,
   "metadata": {},
   "outputs": [],
   "source": [
    "stdev = []\n",
    "\n",
    "for k in uq_ha_env.keys():\n",
    "    stdev.append(np.array(uq_ha_env[k]['local_dist']).std(axis=0))"
   ]
  },
  {
   "cell_type": "code",
   "execution_count": 101,
   "metadata": {},
   "outputs": [
    {
     "data": {
      "text/plain": [
       "(57, 6)"
      ]
     },
     "execution_count": 101,
     "metadata": {},
     "output_type": "execute_result"
    }
   ],
   "source": [
    "np.array(stdev).shape"
   ]
  },
  {
   "cell_type": "code",
   "execution_count": 103,
   "metadata": {},
   "outputs": [],
   "source": [
    "import matplotlib.pyplot as plt\n",
    "%matplotlib inline"
   ]
  },
  {
   "cell_type": "code",
   "execution_count": 108,
   "metadata": {},
   "outputs": [
    {
     "data": {
      "image/png": "[encoded data removed]",
      "text/plain": [
       "<Figure size 432x288 with 6 Axes>"
      ]
     },
     "metadata": {
      "needs_background": "light"
     },
     "output_type": "display_data"
    }
   ],
   "source": [
    "fig, axs = plt.subplots(1, 6)\n",
    "for i in range(6):\n",
    "    axs[i].hist(np.array(stdev)[:, i])\n",
    "plt.show()"
   ]
  },
  {
   "cell_type": "code",
   "execution_count": 85,
   "metadata": {},
   "outputs": [],
   "source": [
    "def local_env_lookup(uq_ha_env, uq_hy_env, mol):\n",
    "    ha_lr, hy_lr, heavy_atom_idxs = mol['ha_lr'],  mol['hy_lr'], mol['heavy_atom_idxs']\n",
    "    ha_local_idxs, hy_local_idxs = mol['ha_lidxs'], mol['hy_lidxs']\n",
    "    n_total_atoms, n_heavy_atoms = len(mol['nuclear_charges']), len(heavy_atom_idxs)\n",
    "    ha_dists = []\n",
    "    hy_dists = []\n",
    "    for i in range(len(ha_lr)):\n",
    "        ha_dists.append(uq_ha_env[tuple(ha_lr[i])]['avg_dist'])\n",
    "    for i in range(len(hy_lr)):\n",
    "        hy_dists.append(uq_hy_env[tuple(hy_lr[i])]['avg_dist'])\n",
    "    \n",
    "    sparse_dm = construct_sparse_dm(np.array(ha_dists), ha_local_idxs, n_atoms=n_heavy_atoms, n_neighs=4)\n",
    "#     hy_sparse_dm = construct_sparse_dm(np.array(hy_dists), hy_local_idxs, n_atoms=n_total_atoms, n_neighs=5)\n",
    "#     for j, e in enumerate(heavy_atom_idxs):\n",
    "#         for k, em in enumerate(heavy_atom_idxs):\n",
    "#             hy_sparse_dm[e, em] = sparse_dm[j, k]\n",
    "#             hy_sparse_dm[em, e] = sparse_dm[k, j]\n",
    "    return sparse_dm, mol['nuclear_charges'][heavy_atom_idxs]"
   ]
  },
  {
   "cell_type": "code",
   "execution_count": 86,
   "metadata": {},
   "outputs": [
    {
     "name": "stderr",
     "output_type": "stream",
     "text": [
      "100%|██████████| 6095/6095 [00:03<00:00, 1779.81it/s]\n"
     ]
    }
   ],
   "source": [
    "sparse_distances = []\n",
    "mol_nuclear_charges = []\n",
    "for j in tqdm(range(len(mol_envs))):\n",
    "    sp, mnc = local_env_lookup(uq_ha_env, uq_hy_env, mol_envs[j])\n",
    "    sparse_distances.append(sp)\n",
    "    mol_nuclear_charges.append(mnc)"
   ]
  },
  {
   "cell_type": "code",
   "execution_count": 83,
   "metadata": {},
   "outputs": [
    {
     "data": {
      "text/plain": [
       "(6095, 9, 9)"
      ]
     },
     "execution_count": 83,
     "metadata": {},
     "output_type": "execute_result"
    }
   ],
   "source": [
    "np.array(sparse_distances).shape"
   ]
  },
  {
   "cell_type": "code",
   "execution_count": 87,
   "metadata": {},
   "outputs": [
    {
     "data": {
      "text/plain": [
       "(6095, 9)"
      ]
     },
     "execution_count": 87,
     "metadata": {},
     "output_type": "execute_result"
    }
   ],
   "source": [
    "np.array(mol_nuclear_charges).shape"
   ]
  },
  {
   "cell_type": "code",
   "execution_count": 88,
   "metadata": {},
   "outputs": [
    {
     "name": "stderr",
     "output_type": "stream",
     "text": [
      "100%|██████████| 6095/6095 [53:57<00:00,  1.88it/s]  \n"
     ]
    }
   ],
   "source": [
    "dgsol = DGSOL(np.array(sparse_distances),   np.array(mol_nuclear_charges), vectorized_input=False)\n",
    "dgsol.solve_distance_geometry('./test_const_iso_heavy', n_solutions=50)"
   ]
  },
  {
   "cell_type": "code",
   "execution_count": 101,
   "metadata": {},
   "outputs": [
    {
     "data": {
      "text/plain": [
       "(array([2211]),)"
      ]
     },
     "execution_count": 101,
     "metadata": {},
     "output_type": "execute_result"
    }
   ],
   "source": [
    "np.where(dgsol.c_errors[:,0,0] > 1.)"
   ]
  },
  {
   "cell_type": "code",
   "execution_count": 102,
   "metadata": {},
   "outputs": [
    {
     "data": {
      "text/plain": [
       "6.4"
      ]
     },
     "execution_count": 102,
     "metadata": {},
     "output_type": "execute_result"
    }
   ],
   "source": [
    "dgsol.c_errors[2211,0,0]"
   ]
  },
  {
   "cell_type": "code",
   "execution_count": 99,
   "metadata": {},
   "outputs": [],
   "source": [
    "dirs = sorted(glob('./test_const_iso_heavy/*'))\n",
    "for i, e in enumerate(dirs):\n",
    "    for j in range(2):\n",
    "        g2s.utils.write_xyz(f'{e}/ci-{i:04d}_conf-{j:02d}.xyz', dgsol.coords[i][j], dgsol.nuclear_charges[i])"
   ]
  },
  {
   "cell_type": "code",
   "execution_count": 69,
   "metadata": {},
   "outputs": [
    {
     "name": "stdout",
     "output_type": "stream",
     "text": [
      "Error Type, Min, Mean, Max\n",
      "minError: 0.0, 12080331776.0, 144999991738368.0\n",
      "avgError: 0.0, 15345688576.0, 15500000100352.0\n",
      "maxError: 0.0, 32060172288.0, 45800000323584.0\n"
     ]
    }
   ],
   "source": [
    "dgsol.gen_cerror_overview()"
   ]
  },
  {
   "cell_type": "code",
   "execution_count": 29,
   "metadata": {},
   "outputs": [
    {
     "data": {
      "text/plain": [
       "6.657596808989"
      ]
     },
     "execution_count": 29,
     "metadata": {},
     "output_type": "execute_result"
    }
   ],
   "source": [
    "np.abs(sparse_distances[0] - mol_envs[0]['full_dm']).max()"
   ]
  },
  {
   "cell_type": "code",
   "execution_count": 66,
   "metadata": {},
   "outputs": [],
   "source": [
    "import os\n",
    "import subprocess\n",
    "\n",
    "import numpy as np\n",
    "from tqdm import tqdm\n",
    "\n",
    "from g2s.utils import vector_to_square\n",
    "\n",
    "\n",
    "class DGSOL:\n",
    "    \"\"\"\n",
    "    Wrapper class for the Distance Geometry Solver (DGSOL)\n",
    "\n",
    "    Embeds points in cartesian space given a distance boundary.\n",
    "\n",
    "    To read more about DGSOl visit: https://www.mcs.anl.gov/~more/dgsol/\n",
    "    \"\"\"\n",
    "    def __init__(self, distances, nuclear_charges, vectorized_input=True):\n",
    "        \"\"\"\n",
    "\n",
    "        Parameters\n",
    "        ----------\n",
    "        distances: np.array\n",
    "            Either a symmetric (n, n) distance matrix or its vectorized form.\n",
    "        nuclear_charges: np.array, shape n\n",
    "            Nucelear charges of the system\n",
    "        vectorized_input: bool (default=True)\n",
    "            Whether the distance matrix is in its vectorized form or not.\n",
    "            If True, converts distance matrix to its symmetric form.\n",
    "        \"\"\"\n",
    "        self.nuclear_charges = nuclear_charges\n",
    "        self.distances = vector_to_square(distances) if vectorized_input else distances\n",
    "        self.coords = None\n",
    "        self.c_errors = None\n",
    "\n",
    "    def gen_cerror_overview(self):\n",
    "        \"\"\"\n",
    "        Prints overview of DGSOl reconstruction errors\n",
    "        \"\"\"\n",
    "        print('Error Type, Min, Mean, Max')\n",
    "        print(f'minError: {np.min(self.c_errors[:, 1])}, {np.mean(self.c_errors[:, 1])}, {np.max(self.c_errors[:, 1])}')\n",
    "        print(f'avgError: {np.min(self.c_errors[:, 2])}, {np.mean(self.c_errors[:, 2])}, {np.max(self.c_errors[:, 2])}')\n",
    "        print(f'maxError: {np.min(self.c_errors[:, 2])}, {np.mean(self.c_errors[:, 3])}, {np.max(self.c_errors[:, 3])}')\n",
    "\n",
    "    def to_scientific_notation(self, number):\n",
    "        \"\"\"\n",
    "        Converts numbers to DGSOL notation.\n",
    "\n",
    "        Parameters\n",
    "        ----------\n",
    "        number: float\n",
    "\n",
    "        Returns\n",
    "        -------\n",
    "        Number in DGSOL notation, e.g. 1e10\n",
    "        \"\"\"\n",
    "        a, b = '{:.17E}'.format(number).split('E')\n",
    "        num = '{:.12f}E{:+03d}'.format(float(a) / 10, int(b) + 1)\n",
    "        return num[1:]\n",
    "\n",
    "    def write_dgsol_input(self, distances, outpath):\n",
    "        \"\"\"\n",
    "        Input file writer for DGSOL.\n",
    "        Basically writes 4 columns such as\n",
    "        Atom_i   Atom_j  lower_bound       upper_bound\n",
    "        1         2   .139169904722E+01   .139169904722E+01\n",
    "        1         3   .237179033727E+01   .237179033727E+01\n",
    "        1         4   .331764447534E+01   .331764447534E+01\n",
    "        1         5   .200997900174E+01   .200997900174E+01\n",
    "\n",
    "        Parameters\n",
    "        ----------\n",
    "        distances: np.array\n",
    "            Vectorized distance matrix.\n",
    "        outpath: str\n",
    "            Directory to save input file\n",
    "\n",
    "        \"\"\"\n",
    "        n, m = np.triu_indices(distances.shape[1], k=1)\n",
    "        with open(f'{outpath}/dgsol.input', 'w') as outfile:\n",
    "            for i, j in zip(n, m):\n",
    "                upper = distances[i, j]\n",
    "                lower = distances[i, j]\n",
    "                if distances[i, j] == 0.0:\n",
    "                    upper = 20.\n",
    "                    lower = 1.0\n",
    "                outfile.write(\n",
    "                    f'{i + 1:9.0f}{j + 1:10.0f}   {self.to_scientific_notation(lower)}   '\n",
    "                    f'{self.to_scientific_notation(upper)}\\n')\n",
    "\n",
    "    def parse_dgsol_coords(self, path, n_solutions, n_atoms):\n",
    "        \"\"\"\n",
    "        Parser for DGSOl output file.\n",
    "        Reads all found solutions and filters coordinates.\n",
    "\n",
    "        Parameters\n",
    "        ----------\n",
    "        path: str\n",
    "            Path to dgsol.output file.\n",
    "        n_solutions: int\n",
    "            Number of dgsol solutions.\n",
    "        n_atoms: int\n",
    "            Number of atoms.\n",
    "\n",
    "        Returns\n",
    "        -------\n",
    "        coords: np.array, shape (n, 3)\n",
    "            Coordinates of the system.\n",
    "\n",
    "        \"\"\"\n",
    "        with open(f'{path}/dgsol.output') as outfile:\n",
    "            lines = outfile.readlines()\n",
    "\n",
    "        coords = []\n",
    "        for line in lines:\n",
    "            if not line.startswith('\\n') and len(line) > 30:\n",
    "                coords.append([float(n) for n in line.split()])\n",
    "        coords = np.array(coords).reshape((n_solutions, n_atoms, 3))\n",
    "        return coords\n",
    "\n",
    "    def solve_distance_geometry(self, outpath, n_solutions=10):\n",
    "        \"\"\"\n",
    "        Interface to solve distance geometry problem.\n",
    "        Writes input for DGSOL, run's DGSOL and parses coordinates.\n",
    "\n",
    "        Parameters\n",
    "        ----------\n",
    "        outpath: str\n",
    "            Output directory to write input files and run DGSOL.\n",
    "        n_solutions: int (default=10)\n",
    "            Number of solutions to compute with DGSOL.\n",
    "\n",
    "        \"\"\"\n",
    "        construction_errors = []\n",
    "        mol_coordinates = []\n",
    "        mol_ids = np.arange(self.distances.shape[0])\n",
    "        for i, ids in tqdm(enumerate(mol_ids), total=len(mol_ids)):\n",
    "            out = f'{outpath}/{ids:04}'\n",
    "            os.makedirs(out, exist_ok=True)\n",
    "            self.write_dgsol_input(distances=self.distances[i], outpath=out)\n",
    "            self.run_dgsol(out, n_solutions=n_solutions)\n",
    "            errors = self.parse_dgsol_errors(out)\n",
    "            lowest_errors_idx = np.argsort(errors[:, 2])\n",
    "            construction_errors.append(errors[lowest_errors_idx])\n",
    "            coords = self.parse_dgsol_coords(out, n_solutions, n_atoms=len(self.nuclear_charges[i]))\n",
    "            mol_coordinates.append(coords[lowest_errors_idx])\n",
    "        self.coords = np.array(mol_coordinates, dtype=object)\n",
    "        self.c_errors = np.array(construction_errors)\n",
    "\n",
    "    def run_dgsol(self, outpath, n_solutions=10):\n",
    "        \"\"\"\n",
    "        Interface to submit DGSOL as a subprocess.\n",
    "\n",
    "        Parameters\n",
    "        ----------\n",
    "        outpath: str\n",
    "            Output directory to write input files and run DGSOL.\n",
    "        n_solutions: int (default=10)\n",
    "            Number of solutions to compute with DGSOL.\n",
    "\n",
    "        \"\"\"\n",
    "        # \n",
    "        cmd = f'mpirun -np 24 dgsol -s{n_solutions} {outpath}/dgsol.input {outpath}/dgsol.output {outpath}/dgsol.summary'\n",
    "        process = subprocess.Popen(cmd.split(), stdout=subprocess.PIPE)\n",
    "        output, error = process.communicate()\n",
    "        if error is not None:\n",
    "            raise UserWarning(f'{outpath} produced the following error: {error}')\n",
    "\n",
    "    def parse_dgsol_errors(self, outpath):\n",
    "        \"\"\"\n",
    "        Parses DGSOL Errors.\n",
    "\n",
    "        There are 4 types of errors in the dgsol output:\n",
    "\n",
    "        f_err         The value of the merit function\n",
    "        derr_min      The smallest error in the distances\n",
    "        derr_avg      The average error in the distances\n",
    "        derr_max      The largest error in the distances\n",
    "\n",
    "        Parameters\n",
    "        ----------\n",
    "        outpath: str\n",
    "            Output directory that contains dgsol.summary\n",
    "\n",
    "        Returns\n",
    "        -------\n",
    "        dgsol_erros: np.array\n",
    "            Contains DGSOL errors, shape(4)\n",
    "\n",
    "        \"\"\"\n",
    "        with open(f'{outpath}/dgsol.summary', 'r') as input:\n",
    "            lines = input.readlines()\n",
    "\n",
    "        errors = []\n",
    "        # skip the header lines\n",
    "        for line in lines[5:]:\n",
    "            errors.append(line.split()[2:])   # the first two entries are n_atoms and n_distances\n",
    "        return np.array(errors).astype('float32')"
   ]
  },
  {
   "cell_type": "code",
   "execution_count": 65,
   "metadata": {},
   "outputs": [
    {
     "name": "stderr",
     "output_type": "stream",
     "text": [
      "  0%|          | 0/1 [00:00<?, ?it/s]\n"
     ]
    },
    {
     "ename": "FileNotFoundError",
     "evalue": "[Errno 2] No such file or directory: './test/0000/dgsol.summary'",
     "output_type": "error",
     "traceback": [
      "\u001b[0;31m---------------------------------------------------------------------------\u001b[0m",
      "\u001b[0;31mFileNotFoundError\u001b[0m                         Traceback (most recent call last)",
      "\u001b[0;32m<ipython-input-65-00be0b851072>\u001b[0m in \u001b[0;36m<module>\u001b[0;34m\u001b[0m\n\u001b[1;32m      1\u001b[0m \u001b[0mdgsol\u001b[0m \u001b[0;34m=\u001b[0m \u001b[0mg2s\u001b[0m\u001b[0;34m.\u001b[0m\u001b[0mdgeom\u001b[0m\u001b[0;34m.\u001b[0m\u001b[0mDGSOL\u001b[0m\u001b[0;34m(\u001b[0m\u001b[0mnp\u001b[0m\u001b[0;34m.\u001b[0m\u001b[0marray\u001b[0m\u001b[0;34m(\u001b[0m\u001b[0msparse_distances\u001b[0m\u001b[0;34m)\u001b[0m\u001b[0;34m[\u001b[0m\u001b[0;34m:\u001b[0m\u001b[0;36m1\u001b[0m\u001b[0;34m]\u001b[0m\u001b[0;34m,\u001b[0m   \u001b[0mnp\u001b[0m\u001b[0;34m.\u001b[0m\u001b[0marray\u001b[0m\u001b[0;34m(\u001b[0m\u001b[0mmol_nuclear_charges\u001b[0m\u001b[0;34m)\u001b[0m\u001b[0;34m[\u001b[0m\u001b[0;34m:\u001b[0m\u001b[0;36m1\u001b[0m\u001b[0;34m]\u001b[0m\u001b[0;34m,\u001b[0m \u001b[0mvectorized_input\u001b[0m\u001b[0;34m=\u001b[0m\u001b[0;32mFalse\u001b[0m\u001b[0;34m)\u001b[0m\u001b[0;34m\u001b[0m\u001b[0;34m\u001b[0m\u001b[0m\n\u001b[0;32m----> 2\u001b[0;31m \u001b[0mdgsol\u001b[0m\u001b[0;34m.\u001b[0m\u001b[0msolve_distance_geometry\u001b[0m\u001b[0;34m(\u001b[0m\u001b[0;34m'./test'\u001b[0m\u001b[0;34m,\u001b[0m \u001b[0mn_solutions\u001b[0m\u001b[0;34m=\u001b[0m\u001b[0;36m100\u001b[0m\u001b[0;34m)\u001b[0m\u001b[0;34m\u001b[0m\u001b[0;34m\u001b[0m\u001b[0m\n\u001b[0m",
      "\u001b[0;32m~/github/Graph2Structure/g2s/dgeom/dgsol.py\u001b[0m in \u001b[0;36msolve_distance_geometry\u001b[0;34m(self, outpath, n_solutions)\u001b[0m\n\u001b[1;32m    140\u001b[0m             \u001b[0mself\u001b[0m\u001b[0;34m.\u001b[0m\u001b[0mwrite_dgsol_input\u001b[0m\u001b[0;34m(\u001b[0m\u001b[0mdistances\u001b[0m\u001b[0;34m=\u001b[0m\u001b[0mself\u001b[0m\u001b[0;34m.\u001b[0m\u001b[0mdistances\u001b[0m\u001b[0;34m[\u001b[0m\u001b[0mi\u001b[0m\u001b[0;34m]\u001b[0m\u001b[0;34m,\u001b[0m \u001b[0moutpath\u001b[0m\u001b[0;34m=\u001b[0m\u001b[0mout\u001b[0m\u001b[0;34m)\u001b[0m\u001b[0;34m\u001b[0m\u001b[0;34m\u001b[0m\u001b[0m\n\u001b[1;32m    141\u001b[0m             \u001b[0mself\u001b[0m\u001b[0;34m.\u001b[0m\u001b[0mrun_dgsol\u001b[0m\u001b[0;34m(\u001b[0m\u001b[0mout\u001b[0m\u001b[0;34m,\u001b[0m \u001b[0mn_solutions\u001b[0m\u001b[0;34m=\u001b[0m\u001b[0mn_solutions\u001b[0m\u001b[0;34m)\u001b[0m\u001b[0;34m\u001b[0m\u001b[0;34m\u001b[0m\u001b[0m\n\u001b[0;32m--> 142\u001b[0;31m             \u001b[0merrors\u001b[0m \u001b[0;34m=\u001b[0m \u001b[0mself\u001b[0m\u001b[0;34m.\u001b[0m\u001b[0mparse_dgsol_errors\u001b[0m\u001b[0;34m(\u001b[0m\u001b[0mout\u001b[0m\u001b[0;34m)\u001b[0m\u001b[0;34m\u001b[0m\u001b[0;34m\u001b[0m\u001b[0m\n\u001b[0m\u001b[1;32m    143\u001b[0m             \u001b[0mlowest_errors_idx\u001b[0m \u001b[0;34m=\u001b[0m \u001b[0mnp\u001b[0m\u001b[0;34m.\u001b[0m\u001b[0margsort\u001b[0m\u001b[0;34m(\u001b[0m\u001b[0merrors\u001b[0m\u001b[0;34m[\u001b[0m\u001b[0;34m:\u001b[0m\u001b[0;34m,\u001b[0m \u001b[0;36m2\u001b[0m\u001b[0;34m]\u001b[0m\u001b[0;34m)\u001b[0m\u001b[0;34m\u001b[0m\u001b[0;34m\u001b[0m\u001b[0m\n\u001b[1;32m    144\u001b[0m             \u001b[0mconstruction_errors\u001b[0m\u001b[0;34m.\u001b[0m\u001b[0mappend\u001b[0m\u001b[0;34m(\u001b[0m\u001b[0merrors\u001b[0m\u001b[0;34m[\u001b[0m\u001b[0mlowest_errors_idx\u001b[0m\u001b[0;34m[\u001b[0m\u001b[0;36m0\u001b[0m\u001b[0;34m]\u001b[0m\u001b[0;34m]\u001b[0m\u001b[0;34m)\u001b[0m\u001b[0;34m\u001b[0m\u001b[0;34m\u001b[0m\u001b[0m\n",
      "\u001b[0;32m~/github/Graph2Structure/g2s/dgeom/dgsol.py\u001b[0m in \u001b[0;36mparse_dgsol_errors\u001b[0;34m(self, outpath)\u001b[0m\n\u001b[1;32m    188\u001b[0m             \u001b[0mContains\u001b[0m \u001b[0mDGSOL\u001b[0m \u001b[0merrors\u001b[0m\u001b[0;34m,\u001b[0m \u001b[0mshape\u001b[0m\u001b[0;34m(\u001b[0m\u001b[0;36m4\u001b[0m\u001b[0;34m)\u001b[0m\u001b[0;34m\u001b[0m\u001b[0;34m\u001b[0m\u001b[0m\n\u001b[1;32m    189\u001b[0m \u001b[0;34m\u001b[0m\u001b[0m\n\u001b[0;32m--> 190\u001b[0;31m         \"\"\"\n\u001b[0m\u001b[1;32m    191\u001b[0m         \u001b[0;32mwith\u001b[0m \u001b[0mopen\u001b[0m\u001b[0;34m(\u001b[0m\u001b[0;34mf'{outpath}/dgsol.summary'\u001b[0m\u001b[0;34m,\u001b[0m \u001b[0;34m'r'\u001b[0m\u001b[0;34m)\u001b[0m \u001b[0;32mas\u001b[0m \u001b[0minput\u001b[0m\u001b[0;34m:\u001b[0m\u001b[0;34m\u001b[0m\u001b[0;34m\u001b[0m\u001b[0m\n\u001b[1;32m    192\u001b[0m             \u001b[0mlines\u001b[0m \u001b[0;34m=\u001b[0m \u001b[0minput\u001b[0m\u001b[0;34m.\u001b[0m\u001b[0mreadlines\u001b[0m\u001b[0;34m(\u001b[0m\u001b[0;34m)\u001b[0m\u001b[0;34m\u001b[0m\u001b[0;34m\u001b[0m\u001b[0m\n",
      "\u001b[0;31mFileNotFoundError\u001b[0m: [Errno 2] No such file or directory: './test/0000/dgsol.summary'"
     ]
    }
   ],
   "source": [
    "dgsol = g2s.dgeom.DGSOL(np.array(sparse_distances)[:1],   np.array(mol_nuclear_charges)[:1], vectorized_input=False)\n",
    "dgsol.solve_distance_geometry('./test', n_solutions=100)"
   ]
  },
  {
   "cell_type": "code",
   "execution_count": 64,
   "metadata": {},
   "outputs": [
    {
     "data": {
      "text/plain": [
       "'/home/lem/github/Graph2Structure/examples'"
      ]
     },
     "execution_count": 64,
     "metadata": {},
     "output_type": "execute_result"
    }
   ],
   "source": [
    "pwd"
   ]
  },
  {
   "cell_type": "code",
   "execution_count": 52,
   "metadata": {},
   "outputs": [],
   "source": [
    "for j in range(3):\n",
    "    g2s.utils.write_xyz(f'./test/ci-{i:04d}_conf-{j:02d}.xyz', dgsol.coords[0][j], dgsol.nuclear_charges[0])"
   ]
  },
  {
   "cell_type": "code",
   "execution_count": null,
   "metadata": {},
   "outputs": [],
   "source": []
  }
 ],
 "metadata": {
  "kernelspec": {
   "display_name": "Python 3",
   "language": "python",
   "name": "python3"
  },
  "language_info": {
   "codemirror_mode": {
    "name": "ipython",
    "version": 3
   },
   "file_extension": ".py",
   "mimetype": "text/x-python",
   "name": "python",
   "nbconvert_exporter": "python",
   "pygments_lexer": "ipython3",
   "version": "3.7.9"
  }
 },
 "nbformat": 4,
 "nbformat_minor": 4
}
