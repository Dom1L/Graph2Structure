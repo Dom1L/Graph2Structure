{
 "cells": [
  {
   "cell_type": "code",
   "execution_count": 1,
   "metadata": {
    "pycharm": {
     "name": "#%%\n"
    }
   },
   "outputs": [
    {
     "name": "stderr",
     "output_type": "stream",
     "text": [
      "RDKit WARNING: [16:18:40] Enabling RDKit 2019.09.3 jupyter extensions\n"
     ]
    }
   ],
   "source": [
    "from glob import glob\n",
    "\n",
    "import numpy as np\n",
    "from tqdm import tqdm\n",
    "\n",
    "import g2s\n",
    "from g2s.graph_extractor import xyz2mol_graph\n",
    "from g2s.representations.locality import get_local_environment, construct_sparse_dm, get_local_knn_environment\n"
   ]
  },
  {
   "cell_type": "code",
   "execution_count": 81,
   "metadata": {},
   "outputs": [],
   "source": [
    "ci_path = sorted(glob('/Users/c0uch1/work/g2g_data/qm9/H10C7O2/*.xyz'))"
   ]
  },
  {
   "cell_type": "code",
   "execution_count": 96,
   "metadata": {},
   "outputs": [],
   "source": [
    "def get_local_knn_environment(idx, adjacency_matrix, representation, nuclear_charges, distances=None, depth=2, sorting='norm_row'):\n",
    "    graph = igraph.Graph()\n",
    "    graph = graph.Adjacency(list(adjacency_matrix.astype(float)))\n",
    "    # Get all K=1 neighbors around a query atom\n",
    "    neighbor_idxs = graph.neighbors(idx, mode='OUT')\n",
    "    new_neighs = neighbor_idxs\n",
    "    d = 1\n",
    "    # if k > 1 then scan further neighbors\n",
    "    while d < depth:\n",
    "        kn = []\n",
    "        for n in new_neighs:\n",
    "            kn.append(graph.neighbors(n, mode='OUT'))\n",
    "\n",
    "        # Filter non-unique indices\n",
    "        kn = [item for sublist in kn for item in sublist]\n",
    "        kn = list(filter((idx).__ne__, kn))\n",
    "        kn = np.unique(kn)\n",
    "\n",
    "        neighbor_idxs.extend(kn)\n",
    "        new_neighs = kn\n",
    "        d += 1\n",
    "    neighbor_idxs = np.unique(neighbor_idxs)\n",
    "\n",
    "    # row, col = np.triu_indices(len(local_idxs), k=1)\n",
    "\n",
    "    atomic_representation = representation[idx][neighbor_idxs]\n",
    "    local_nuclear_charges = nuclear_charges[neighbor_idxs]\n",
    "    if distances is not None:\n",
    "        local_distances = distances[idx][neighbor_idxs]\n",
    "\n",
    "    if sorting == 'norm_row':\n",
    "        row_norm_idx = np.argsort(atomic_representation)\n",
    "        atomic_representation = atomic_representation[row_norm_idx]\n",
    "        local_nuclear_charges = local_nuclear_charges[row_norm_idx]\n",
    "        neighbor_idxs = neighbor_idxs[row_norm_idx]\n",
    "\n",
    "        if distances is not None:\n",
    "            local_distances = local_distances[row_norm_idx]\n",
    "            \n",
    "    local_nuclear_charges = np.array([nuclear_charges[idx], *local_nuclear_charges])\n",
    "    local_idxs = np.array([idx, *neighbor_idxs])\n",
    "\n",
    "    if distances is not None:\n",
    "        return atomic_representation, local_nuclear_charges, local_idxs, local_distances\n",
    "    else:\n",
    "        return atomic_representation, local_nuclear_charges, local_idxs\n"
   ]
  },
  {
   "cell_type": "code",
   "execution_count": 83,
   "metadata": {},
   "outputs": [],
   "source": [
    "def prep_data(filepath):\n",
    "    bond_order_matrix, nuclear_charges, coords = xyz2mol_graph(filepath)\n",
    "\n",
    "    distances = g2s.utils.calculate_distances(coords)\n",
    "    gc = g2s.GraphCompound(bond_order_matrix, nuclear_charges, distances)\n",
    "    gc.generate_bond_length(size=19, sorting='norm_row')\n",
    "\n",
    "    representation = gc.representation\n",
    "    adjacency = gc.adjacency_matrix\n",
    "    nuclear_charges = gc.nuclear_charges\n",
    "    distances = gc.distances\n",
    "\n",
    "    representation = g2s.utils.vector_to_square([representation])[0]\n",
    "    distances = g2s.utils.vector_to_square([distances])[0]\n",
    "\n",
    "    hydrogen_idxs = np.where(nuclear_charges == 1)[0]\n",
    "    heavy_atom_idxs = np.where(nuclear_charges != 1)[0]\n",
    "\n",
    "    ha_representation = representation[heavy_atom_idxs][:, heavy_atom_idxs]\n",
    "    hy_representation = representation[hydrogen_idxs][:, heavy_atom_idxs]\n",
    "\n",
    "    ha_dm = distances[heavy_atom_idxs][:, heavy_atom_idxs]\n",
    "    ha_nc = nuclear_charges[heavy_atom_idxs]\n",
    "    \n",
    "    ha_adj = adjacency[heavy_atom_idxs][:, heavy_atom_idxs]\n",
    "\n",
    "    ha_local_repr = []\n",
    "    ha_local_nc = []\n",
    "    ha_local_dist = []\n",
    "    ha_local_idxs = []\n",
    "\n",
    "    hy_local_repr = []\n",
    "    hy_local_nc = []\n",
    "    hy_local_dist = []\n",
    "    hy_local_idxs = []\n",
    "\n",
    "    for i in range(len(heavy_atom_idxs)):\n",
    "#         atomic_representation, local_nuclear_charges, local_idxs, local_distances = get_local_environment(i, ha_representation, ha_nc, distances=ha_dm, n_neighs=3)\n",
    "        atomic_representation, local_nuclear_charges, local_idxs, local_distances = get_local_knn_environment(i,  ha_adj, ha_representation, ha_nc, distances=ha_dm, depth=2)\n",
    "\n",
    "        ha_local_repr.append(atomic_representation)\n",
    "        ha_local_dist.append(local_distances)\n",
    "        ha_local_nc.append(local_nuclear_charges)\n",
    "        ha_local_idxs.append(local_idxs)\n",
    "\n",
    "    for i in hydrogen_idxs:\n",
    "        hydro_atomic_representation, hydro_local_nuclear_charges, hydro_local_idxs, hydro_local_distances = get_local_environment(i, representation, nuclear_charges, distances, n_neighs=4)\n",
    "        hy_local_repr.append(hydro_atomic_representation)\n",
    "        hy_local_nc.append(hydro_local_nuclear_charges)\n",
    "        hy_local_dist.append(hydro_local_distances)\n",
    "        hy_local_idxs.append(hydro_local_idxs)\n",
    "        \n",
    "    mol_data = {'ha_lr': ha_local_repr,\n",
    "                'ha_lnc': ha_local_nc,\n",
    "                'ha_ldist': ha_local_dist,\n",
    "                'ha_lidxs': ha_local_idxs,\n",
    "                'hy_lr': hy_local_repr,\n",
    "                'hy_lnc': hy_local_nc,\n",
    "                'hy_ldist': hy_local_dist,\n",
    "                'hy_lidxs': hy_local_idxs,\n",
    "                'nuclear_charges': nuclear_charges,\n",
    "                'heavy_atom_idxs': heavy_atom_idxs,\n",
    "                'hydrogen_idxs': hydrogen_idxs,\n",
    "                'full_dm': distances}\n",
    "   \n",
    "    return mol_data\n",
    "\n",
    "def get_unique_environments(local_environments, local_idxs, local_distances=None):\n",
    "    uq_env = {}\n",
    "    for i, r in enumerate(local_environments):\n",
    "        if tuple(r) not in uq_env.keys():\n",
    "            uq_env[tuple(r)] = {'local_idxs': [],\n",
    "                                'local_dist': []}\n",
    "        uq_env[tuple(r)]['local_idxs'].append(local_idxs[i])\n",
    "        if local_distances is not None:\n",
    "            uq_env[tuple(r)]['local_dist'].append(local_distances[i])\n",
    "\n",
    "    if local_distances is not None:\n",
    "\n",
    "        for k in uq_env.keys():\n",
    "            uq_env[k]['avg_dist'] = np.array(uq_env[k]['local_dist']).mean(axis=0)\n",
    "    return uq_env\n",
    "    "
   ]
  },
  {
   "cell_type": "code",
   "execution_count": 97,
   "metadata": {},
   "outputs": [
    {
     "name": "stderr",
     "output_type": "stream",
     "text": [
      "100%|██████████| 6095/6095 [00:43<00:00, 139.02it/s]\n"
     ]
    }
   ],
   "source": [
    "mol_envs = []\n",
    "\n",
    "for ci in tqdm(ci_path):\n",
    "    mol_envs.append(prep_data(ci))"
   ]
  },
  {
   "cell_type": "code",
   "execution_count": 98,
   "metadata": {},
   "outputs": [],
   "source": [
    "ha_lr = [mol_envs[i]['ha_lr'] for i in range(len(mol_envs))]\n",
    "hy_lr = [mol_envs[i]['hy_lr'] for i in range(len(mol_envs))]\n",
    "ha_lidxs = [mol_envs[i]['ha_lidxs'] for i in range(len(mol_envs))]\n",
    "hy_lidxs = [mol_envs[i]['hy_lidxs'] for i in range(len(mol_envs))]\n",
    "ha_ldist = [mol_envs[i]['ha_ldist'] for i in range(len(mol_envs))]\n",
    "hy_ldist = [mol_envs[i]['hy_ldist'] for i in range(len(mol_envs))]"
   ]
  },
  {
   "cell_type": "code",
   "execution_count": 101,
   "metadata": {},
   "outputs": [
    {
     "data": {
      "text/plain": [
       "[array([1.427608  , 1.50810294, 1.53775736, 1.53445536, 2.62658106,\n",
       "        2.4587894 ]),\n",
       " array([1.36075965, 1.36483552, 1.50810294, 2.19578119, 2.23951927,\n",
       "        2.38146468, 2.50751839, 2.5014679 ]),\n",
       " array([1.36075965, 1.43508055, 2.23100009, 2.62658106, 2.23114235]),\n",
       " array([1.36483552, 1.36277714, 2.23100009, 2.23252109, 2.4587894 ]),\n",
       " array([1.53775736, 2.43775567, 2.50751839, 2.52940696]),\n",
       " array([1.53445536, 2.35871884, 2.5014679 , 2.52940696]),\n",
       " array([1.427608  , 2.38146468, 2.43775567, 2.35871884]),\n",
       " array([1.35629504, 1.36277714, 2.19578119, 2.23114235]),\n",
       " array([1.35629504, 1.43508055, 2.23252109, 2.23951927])]"
      ]
     },
     "execution_count": 101,
     "metadata": {},
     "output_type": "execute_result"
    }
   ],
   "source": [
    "ha_ldist[0]"
   ]
  },
  {
   "cell_type": "code",
   "execution_count": 102,
   "metadata": {},
   "outputs": [],
   "source": [
    "def get_unique_environments(local_environments, local_idxs, local_distances=None):\n",
    "    uq_env = {}\n",
    "    for j in range(len(local_environments)):\n",
    "        for i, r in enumerate(local_environments[j]):\n",
    "            if tuple(r) not in uq_env.keys():\n",
    "                uq_env[tuple(r)] = {'local_idxs': [],\n",
    "                                    'local_dist': []}\n",
    "            uq_env[tuple(r)]['local_idxs'].append(local_idxs[j][i])\n",
    "            if local_distances is not None:\n",
    "                uq_env[tuple(r)]['local_dist'].append(local_distances[j][i])\n",
    "\n",
    "    if local_distances is not None:\n",
    "\n",
    "        for k in uq_env.keys():\n",
    "            uq_env[k]['avg_dist'] = np.array(uq_env[k]['local_dist']).mean(axis=0)\n",
    "    return uq_env\n"
   ]
  },
  {
   "cell_type": "code",
   "execution_count": 103,
   "metadata": {},
   "outputs": [],
   "source": [
    "uq_ha_env = get_unique_environments(ha_lr, ha_lidxs, local_distances=ha_ldist)\n",
    "uq_hy_env = get_unique_environments(hy_lr, hy_lidxs, local_distances=hy_ldist)"
   ]
  },
  {
   "cell_type": "code",
   "execution_count": 48,
   "metadata": {},
   "outputs": [
    {
     "data": {
      "text/plain": [
       "54855"
      ]
     },
     "execution_count": 48,
     "metadata": {},
     "output_type": "execute_result"
    }
   ],
   "source": [
    "len(ha_lr)*9"
   ]
  },
  {
   "cell_type": "code",
   "execution_count": 104,
   "metadata": {},
   "outputs": [
    {
     "data": {
      "text/plain": [
       "471"
      ]
     },
     "execution_count": 104,
     "metadata": {},
     "output_type": "execute_result"
    }
   ],
   "source": [
    "len(uq_ha_env)"
   ]
  },
  {
   "cell_type": "code",
   "execution_count": 74,
   "metadata": {},
   "outputs": [],
   "source": [
    "training_ha_envs = []\n",
    "training_ha_labels = []\n",
    "\n",
    "training_hy_envs = []\n",
    "training_hy_labels = []\n",
    "\n",
    "for k in uq_ha_env.keys():\n",
    "    training_ha_envs.append(k)\n",
    "    training_ha_labels.append(uq_ha_env[k]['avg_dist'])\n",
    "    \n",
    "\n",
    "for k in uq_hy_env.keys():\n",
    "    training_hy_envs.append(k)\n",
    "    training_hy_labels.append(uq_hy_env[k]['avg_dist'])\n",
    "    \n",
    "training_ha_envs = np.array(training_ha_envs)\n",
    "training_ha_labels = np.array(training_ha_labels)\n",
    "training_hy_envs = np.array(training_hy_envs)\n",
    "training_hy_labels = np.array(training_hy_labels)"
   ]
  },
  {
   "cell_type": "code",
   "execution_count": 71,
   "metadata": {},
   "outputs": [
    {
     "name": "stderr",
     "output_type": "stream",
     "text": [
      "100%|██████████| 6/6 [00:00<00:00, 8968.58it/s]\n"
     ]
    }
   ],
   "source": [
    "kernel_sigma = 32\n",
    "kernel_lambda = 1e-5\n",
    "\n",
    "train_kernel = g2s.krr.laplacian_kernel(training_envs, training_envs, 32)\n",
    "train_kernel[np.diag_indices_from(train_kernel)] += 1e-5\n",
    "alphas = g2s.krr.train_multikernel(train_kernel, training_labels)\n",
    "\n",
    "pred_distances = g2s.krr.predict_distances(train_kernel, alphas)"
   ]
  },
  {
   "cell_type": "code",
   "execution_count": 49,
   "metadata": {},
   "outputs": [],
   "source": [
    "stdev = []\n",
    "\n",
    "for k in uq_ha_env.keys():\n",
    "    stdev.append(np.array(uq_ha_env[k]['local_dist']).std(axis=0))"
   ]
  },
  {
   "cell_type": "code",
   "execution_count": 65,
   "metadata": {},
   "outputs": [],
   "source": [
    "n_max = 1e-10\n",
    "for i in range(len(stdev)):\n",
    "    a = max(stdev[i])\n",
    "    n_max = a if a > n_max else n_max"
   ]
  },
  {
   "cell_type": "code",
   "execution_count": 69,
   "metadata": {},
   "outputs": [],
   "source": [
    "std = [item for sublist in stdev for item in sublist]"
   ]
  },
  {
   "cell_type": "code",
   "execution_count": 53,
   "metadata": {},
   "outputs": [
    {
     "name": "stderr",
     "output_type": "stream",
     "text": [
      "\n",
      "Bad key \"text.kerning_factor\" on line 4 in\n",
      "/Users/c0uch1/.miniconda3/envs/wk/lib/python3.7/site-packages/matplotlib/mpl-data/stylelib/_classic_test_patch.mplstyle.\n",
      "You probably need to get an updated matplotlibrc file from\n",
      "https://github.com/matplotlib/matplotlib/blob/v3.1.3/matplotlibrc.template\n",
      "or from the matplotlib source distribution\n"
     ]
    }
   ],
   "source": [
    "import matplotlib.pyplot as plt\n",
    "%matplotlib inline"
   ]
  },
  {
   "cell_type": "code",
   "execution_count": 75,
   "metadata": {},
   "outputs": [
    {
     "data": {
      "text/plain": [
       "0.012252212176154806"
      ]
     },
     "execution_count": 75,
     "metadata": {},
     "output_type": "execute_result"
    }
   ],
   "source": [
    "np.mean(std)"
   ]
  },
  {
   "cell_type": "code",
   "execution_count": 105,
   "metadata": {},
   "outputs": [],
   "source": [
    "def construct_sparse_dm(local_distances, local_idxs, n_atoms, n_neighs=4):\n",
    "    _r, _c = np.triu_indices(n_atoms, k=1)\n",
    "\n",
    "    sparse_dm = np.zeros((n_atoms, n_atoms))\n",
    "    d = {(r, c): [] for r, c in zip(_r, _c)}\n",
    "    for ld, li in zip(local_distances, local_idxs):\n",
    "        row, col = np.triu_indices(len(li), k=1)\n",
    "        for i in range(len(row)):\n",
    "            atom_i = li[row[i]]\n",
    "            atom_j = li[col[i]]\n",
    "            dist = ld[i]\n",
    "            pair = (atom_i, atom_j) if atom_i <= atom_j else (atom_j, atom_i)\n",
    "            d[pair].append(dist)\n",
    "    for p in d.keys():\n",
    "        if d[p]:\n",
    "            atom_i, atom_j = p\n",
    "            sparse_dm[atom_i, atom_j] = np.mean(d[p])\n",
    "            sparse_dm[atom_j, atom_i] = np.mean(d[p])\n",
    "\n",
    "    return sparse_dm\n",
    "\n",
    "def local_env_lookup(uq_ha_env, uq_hy_env, mol):\n",
    "    _ha_lr, _hy_lr, heavy_atom_idxs = mol['ha_lr'],  mol['hy_lr'], mol['heavy_atom_idxs']\n",
    "    n_total_atoms, n_heavy_atoms = len(mol['nuclear_charges']), len(heavy_atom_idxs)\n",
    "    _ha_lidxs, _hy_lidxs =  mol['ha_lidxs'],  mol['hy_lidxs']\n",
    "    ha_dists = []\n",
    "    hy_dists = []\n",
    "    for i in range(len(ha_lr)):\n",
    "        ha_dists.append(uq_ha_env[tuple(_ha_lr[i])]['avg_dist'])\n",
    "    for i in range(len(hy_lr)):\n",
    "        hy_dists.append(uq_hy_env[tuple(_hy_lr[i])]['avg_dist'])\n",
    "    \n",
    "    sparse_dm = construct_sparse_dm(ha_dists, _ha_lidxs, n_atoms=9, n_neighs=4)\n",
    "    hy_sparse_dm = construct_sparse_dm(np.array(hy_dists), _hy_lidxs, n_atoms=n_total_atoms, n_neighs=5)\n",
    "#     for j, e in enumerate(heavy_atom_idxs):\n",
    "#         for k, em in enumerate(heavy_atom_idxs):\n",
    "#             hy_sparse_dm[e, em] = sparse_dm[j, k]\n",
    "#             hy_sparse_dm[em, e] = sparse_dm[k, j]\n",
    "    return sparse_dm, mol['nuclear_charges'][heavy_atom_idxs]"
   ]
  },
  {
   "cell_type": "code",
   "execution_count": 106,
   "metadata": {},
   "outputs": [],
   "source": [
    "mol = mol_envs[j]\n",
    "ha_lr, hy_lr, heavy_atom_idxs = mol['ha_lr'],  mol['hy_lr'], mol['heavy_atom_idxs']\n",
    "n_total_atoms, n_heavy_atoms = len(mol['nuclear_charges']), len(heavy_atom_idxs)\n",
    "_ha_lidxs, _hy_lidxs =  mol['ha_lidxs'],  mol['hy_lidxs']\n",
    "ha_dists = []\n",
    "hy_dists = []\n",
    "for i in range(len(ha_lr)):\n",
    "    ha_dists.append(uq_ha_env[tuple(ha_lr[i])]['avg_dist'])"
   ]
  },
  {
   "cell_type": "code",
   "execution_count": 111,
   "metadata": {},
   "outputs": [
    {
     "data": {
      "text/plain": [
       "(7,)"
      ]
     },
     "execution_count": 111,
     "metadata": {},
     "output_type": "execute_result"
    }
   ],
   "source": [
    "local_idxs[0].shape"
   ]
  },
  {
   "cell_type": "code",
   "execution_count": 113,
   "metadata": {},
   "outputs": [
    {
     "name": "stdout",
     "output_type": "stream",
     "text": [
      "0.007731503043661547\n",
      "0.01563252176834995\n",
      "0.014277323987509138\n",
      "0.0011549280327013411\n",
      "0.0043724526611014225\n",
      "0.013771536236221849\n",
      "0.0004843871246740239\n",
      "0.0007383016391177\n",
      "0.07058588243990482\n",
      "0.073611130094968\n",
      "0.06609291786502847\n",
      "0.0017459911328283617\n",
      "0.0007533705363418353\n",
      "0.001951029757740974\n",
      "0.07422030732371776\n",
      "0.00015132876313728172\n",
      "0.0007636439915066351\n",
      "0.0001594784745262423\n",
      "0.0\n",
      "0.03205071898239642\n",
      "0.020225144038240606\n",
      "4.110669901036257e-05\n"
     ]
    }
   ],
   "source": [
    "local_distances = ha_dists\n",
    "local_idxs = _ha_lidxs\n",
    "n_atoms = 9\n",
    "_r, _c = np.triu_indices(n_atoms, k=1)\n",
    "sparse_dm = np.zeros((n_atoms, n_atoms))\n",
    "d = {(r, c): [] for r, c in zip(_r, _c)}\n",
    "for ld, li in zip(local_distances, local_idxs):\n",
    "#     row, col = np.triu_indices(len(li), k=1)\n",
    "    for i,e in enumerate(li[1:]):\n",
    "        atom_i = li[0]#li[row[i]]\n",
    "        atom_j = e#li[col[i]]\n",
    "        dist = ld[i]\n",
    "        pair = (atom_i, atom_j) if atom_i <= atom_j else (atom_j, atom_i)\n",
    "        d[pair].append(dist)\n",
    "for p in d.keys():\n",
    "    if d[p]:\n",
    "        atom_i, atom_j = p\n",
    "        print(np.std(d[p]))\n",
    "        sparse_dm[atom_i, atom_j] = np.mean(d[p])\n",
    "        sparse_dm[atom_j, atom_i] = np.mean(d[p])"
   ]
  },
  {
   "cell_type": "code",
   "execution_count": 125,
   "metadata": {},
   "outputs": [],
   "source": [
    "row, col = np.triu_indices(9, k=1)\n",
    "for r,c in zip(row, col):\n",
    "    if sparse_dm[r,c] == 0.0:\n",
    "        sparse_dm[r,c] = 20.\n",
    "        sparse_dm[c,r] = 1.   "
   ]
  },
  {
   "cell_type": "code",
   "execution_count": 54,
   "metadata": {},
   "outputs": [],
   "source": [
    "row, col = np.tril_indices(9, k=0)\n"
   ]
  },
  {
   "cell_type": "code",
   "execution_count": 114,
   "metadata": {},
   "outputs": [
    {
     "data": {
      "text/plain": [
       "array([[0.        , 1.50037144, 2.48781483, 2.44912334, 1.50934705,\n",
       "        1.50612952, 1.41130392, 0.        , 0.        ],\n",
       "       [1.50037144, 0.        , 1.36027527, 1.36557383, 2.57810427,\n",
       "        2.57507903, 2.4475576 , 2.1940352 , 2.2387659 ],\n",
       "       [2.48781483, 1.36027527, 0.        , 2.23104404, 0.        ,\n",
       "        0.        , 0.        , 2.30922595, 1.43453469],\n",
       "       [2.44912334, 1.36557383, 2.23104404, 0.        , 0.        ,\n",
       "        0.        , 0.        , 1.36047843, 2.23276149],\n",
       "       [1.50934705, 2.57810427, 0.        , 0.        , 0.        ,\n",
       "        2.63257257, 2.4980085 , 0.        , 0.        ],\n",
       "       [1.50612952, 2.57507903, 0.        , 0.        , 2.63257257,\n",
       "        0.        , 2.48618292, 0.        , 0.        ],\n",
       "       [1.41130392, 2.4475576 , 0.        , 0.        , 2.4980085 ,\n",
       "        2.48618292, 0.        , 0.        , 0.        ],\n",
       "       [0.        , 2.1940352 , 2.30922595, 1.36047843, 0.        ,\n",
       "        0.        , 0.        , 0.        , 1.3564089 ],\n",
       "       [0.        , 2.2387659 , 1.43453469, 2.23276149, 0.        ,\n",
       "        0.        , 0.        , 1.3564089 , 0.        ]])"
      ]
     },
     "execution_count": 114,
     "metadata": {},
     "output_type": "execute_result"
    }
   ],
   "source": [
    "sparse_dm"
   ]
  },
  {
   "cell_type": "code",
   "execution_count": 115,
   "metadata": {},
   "outputs": [
    {
     "data": {
      "text/plain": [
       "array([[0.        , 1.52689169, 2.5336469 , 2.44934196, 1.53965439,\n",
       "        1.53969027, 1.42797468, 3.71988032, 3.7660976 ],\n",
       "       [1.52689169, 0.        , 1.3601202 , 1.36379872, 2.39198217,\n",
       "        2.39198217, 2.41954244, 2.19298863, 2.23920591],\n",
       "       [2.5336469 , 1.3601202 , 0.        , 2.24483405, 3.75210238,\n",
       "        3.75210238, 3.77966264, 2.23920591, 1.43695095],\n",
       "       [2.44934196, 1.36379872, 2.24483405, 0.        , 3.7557809 ,\n",
       "        3.7557809 , 3.78334117, 1.36303982, 2.23438014],\n",
       "       [1.53965439, 2.39198217, 1.03186197, 1.02818345, 0.        ,\n",
       "        3.07934466, 2.42162928, 4.5849708 , 4.63118808],\n",
       "       [1.53969027, 2.39198217, 1.03186197, 1.02818345, 1.        ,\n",
       "        0.        , 2.41328194, 4.5849708 , 4.63118808],\n",
       "       [1.42797468, 2.41954244, 1.10567223, 1.05574372, 2.42162928,\n",
       "        2.41328194, 0.        , 4.61253107, 4.65874835],\n",
       "       [1.08630214, 2.19298863, 2.23920591, 1.36303982, 1.        ,\n",
       "        1.        , 1.        , 0.        , 1.35912263],\n",
       "       [1.09669596, 2.23920591, 1.43695095, 2.23438014, 1.        ,\n",
       "        1.        , 1.        , 1.35912263, 0.        ]])"
      ]
     },
     "execution_count": 115,
     "metadata": {},
     "output_type": "execute_result"
    }
   ],
   "source": [
    "test_dm"
   ]
  },
  {
   "cell_type": "code",
   "execution_count": 16,
   "metadata": {},
   "outputs": [
    {
     "name": "stderr",
     "output_type": "stream",
     "text": [
      "  0%|          | 0/6095 [00:00<?, ?it/s]\n"
     ]
    },
    {
     "ename": "RuntimeError",
     "evalue": "No active exception to reraise",
     "output_type": "error",
     "traceback": [
      "\u001b[0;31m---------------------------------------------------------------------------\u001b[0m",
      "\u001b[0;31mRuntimeError\u001b[0m                              Traceback (most recent call last)",
      "\u001b[0;32m<ipython-input-16-d69b5ddbf280>\u001b[0m in \u001b[0;36m<module>\u001b[0;34m\u001b[0m\n\u001b[1;32m      2\u001b[0m \u001b[0mmol_nuclear_charges\u001b[0m \u001b[0;34m=\u001b[0m \u001b[0;34m[\u001b[0m\u001b[0;34m]\u001b[0m\u001b[0;34m\u001b[0m\u001b[0;34m\u001b[0m\u001b[0m\n\u001b[1;32m      3\u001b[0m \u001b[0;32mfor\u001b[0m \u001b[0mj\u001b[0m \u001b[0;32min\u001b[0m \u001b[0mtqdm\u001b[0m\u001b[0;34m(\u001b[0m\u001b[0mrange\u001b[0m\u001b[0;34m(\u001b[0m\u001b[0mlen\u001b[0m\u001b[0;34m(\u001b[0m\u001b[0mmol_envs\u001b[0m\u001b[0;34m)\u001b[0m\u001b[0;34m)\u001b[0m\u001b[0;34m)\u001b[0m\u001b[0;34m:\u001b[0m\u001b[0;34m\u001b[0m\u001b[0;34m\u001b[0m\u001b[0m\n\u001b[0;32m----> 4\u001b[0;31m     \u001b[0msp\u001b[0m\u001b[0;34m,\u001b[0m \u001b[0mmnc\u001b[0m \u001b[0;34m=\u001b[0m \u001b[0mlocal_env_lookup\u001b[0m\u001b[0;34m(\u001b[0m\u001b[0muq_ha_env\u001b[0m\u001b[0;34m,\u001b[0m \u001b[0muq_hy_env\u001b[0m\u001b[0;34m,\u001b[0m \u001b[0mmol_envs\u001b[0m\u001b[0;34m[\u001b[0m\u001b[0mj\u001b[0m\u001b[0;34m]\u001b[0m\u001b[0;34m)\u001b[0m\u001b[0;34m\u001b[0m\u001b[0;34m\u001b[0m\u001b[0m\n\u001b[0m\u001b[1;32m      5\u001b[0m     \u001b[0msparse_distances\u001b[0m\u001b[0;34m.\u001b[0m\u001b[0mappend\u001b[0m\u001b[0;34m(\u001b[0m\u001b[0msp\u001b[0m\u001b[0;34m)\u001b[0m\u001b[0;34m\u001b[0m\u001b[0;34m\u001b[0m\u001b[0m\n\u001b[1;32m      6\u001b[0m     \u001b[0mmol_nuclear_charges\u001b[0m\u001b[0;34m.\u001b[0m\u001b[0mappend\u001b[0m\u001b[0;34m(\u001b[0m\u001b[0mmnc\u001b[0m\u001b[0;34m)\u001b[0m\u001b[0;34m\u001b[0m\u001b[0;34m\u001b[0m\u001b[0m\n",
      "\u001b[0;32m<ipython-input-15-591d654d234e>\u001b[0m in \u001b[0;36mlocal_env_lookup\u001b[0;34m(uq_ha_env, uq_hy_env, mol)\u001b[0m\n\u001b[1;32m     30\u001b[0m     \u001b[0;32mfor\u001b[0m \u001b[0mi\u001b[0m \u001b[0;32min\u001b[0m \u001b[0mrange\u001b[0m\u001b[0;34m(\u001b[0m\u001b[0mlen\u001b[0m\u001b[0;34m(\u001b[0m\u001b[0mhy_lr\u001b[0m\u001b[0;34m)\u001b[0m\u001b[0;34m)\u001b[0m\u001b[0;34m:\u001b[0m\u001b[0;34m\u001b[0m\u001b[0;34m\u001b[0m\u001b[0m\n\u001b[1;32m     31\u001b[0m         \u001b[0mhy_dists\u001b[0m\u001b[0;34m.\u001b[0m\u001b[0mappend\u001b[0m\u001b[0;34m(\u001b[0m\u001b[0muq_hy_env\u001b[0m\u001b[0;34m[\u001b[0m\u001b[0mtuple\u001b[0m\u001b[0;34m(\u001b[0m\u001b[0m_hy_lr\u001b[0m\u001b[0;34m[\u001b[0m\u001b[0mi\u001b[0m\u001b[0;34m]\u001b[0m\u001b[0;34m)\u001b[0m\u001b[0;34m]\u001b[0m\u001b[0;34m[\u001b[0m\u001b[0;34m'avg_dist'\u001b[0m\u001b[0;34m]\u001b[0m\u001b[0;34m)\u001b[0m\u001b[0;34m\u001b[0m\u001b[0;34m\u001b[0m\u001b[0m\n\u001b[0;32m---> 32\u001b[0;31m     \u001b[0;32mraise\u001b[0m\u001b[0;34m\u001b[0m\u001b[0;34m\u001b[0m\u001b[0m\n\u001b[0m\u001b[1;32m     33\u001b[0m \u001b[0;34m\u001b[0m\u001b[0m\n\u001b[1;32m     34\u001b[0m     \u001b[0msparse_dm\u001b[0m \u001b[0;34m=\u001b[0m \u001b[0mconstruct_sparse_dm\u001b[0m\u001b[0;34m(\u001b[0m\u001b[0mha_dists\u001b[0m\u001b[0;34m,\u001b[0m \u001b[0m_ha_lidxs\u001b[0m\u001b[0;34m,\u001b[0m \u001b[0mn_atoms\u001b[0m\u001b[0;34m=\u001b[0m\u001b[0;36m9\u001b[0m\u001b[0;34m,\u001b[0m \u001b[0mn_neighs\u001b[0m\u001b[0;34m=\u001b[0m\u001b[0;36m4\u001b[0m\u001b[0;34m)\u001b[0m\u001b[0;34m\u001b[0m\u001b[0;34m\u001b[0m\u001b[0m\n",
      "\u001b[0;31mRuntimeError\u001b[0m: No active exception to reraise"
     ]
    }
   ],
   "source": [
    "sparse_distances = []\n",
    "mol_nuclear_charges = []\n",
    "for j in tqdm(range(len(mol_envs))):\n",
    "    sp, mnc = local_env_lookup(uq_ha_env, uq_hy_env, mol_envs[j])\n",
    "    sparse_distances.append(sp)\n",
    "    mol_nuclear_charges.append(mnc)"
   ]
  },
  {
   "cell_type": "code",
   "execution_count": 17,
   "metadata": {},
   "outputs": [
    {
     "name": "stdout",
     "output_type": "stream",
     "text": [
      "> \u001b[0;32m<ipython-input-15-591d654d234e>\u001b[0m(32)\u001b[0;36mlocal_env_lookup\u001b[0;34m()\u001b[0m\n",
      "\u001b[0;32m     30 \u001b[0;31m    \u001b[0;32mfor\u001b[0m \u001b[0mi\u001b[0m \u001b[0;32min\u001b[0m \u001b[0mrange\u001b[0m\u001b[0;34m(\u001b[0m\u001b[0mlen\u001b[0m\u001b[0;34m(\u001b[0m\u001b[0mhy_lr\u001b[0m\u001b[0;34m)\u001b[0m\u001b[0;34m)\u001b[0m\u001b[0;34m:\u001b[0m\u001b[0;34m\u001b[0m\u001b[0;34m\u001b[0m\u001b[0m\n",
      "\u001b[0m\u001b[0;32m     31 \u001b[0;31m        \u001b[0mhy_dists\u001b[0m\u001b[0;34m.\u001b[0m\u001b[0mappend\u001b[0m\u001b[0;34m(\u001b[0m\u001b[0muq_hy_env\u001b[0m\u001b[0;34m[\u001b[0m\u001b[0mtuple\u001b[0m\u001b[0;34m(\u001b[0m\u001b[0m_hy_lr\u001b[0m\u001b[0;34m[\u001b[0m\u001b[0mi\u001b[0m\u001b[0;34m]\u001b[0m\u001b[0;34m)\u001b[0m\u001b[0;34m]\u001b[0m\u001b[0;34m[\u001b[0m\u001b[0;34m'avg_dist'\u001b[0m\u001b[0;34m]\u001b[0m\u001b[0;34m)\u001b[0m\u001b[0;34m\u001b[0m\u001b[0;34m\u001b[0m\u001b[0m\n",
      "\u001b[0m\u001b[0;32m---> 32 \u001b[0;31m    \u001b[0;32mraise\u001b[0m\u001b[0;34m\u001b[0m\u001b[0;34m\u001b[0m\u001b[0m\n",
      "\u001b[0m\u001b[0;32m     33 \u001b[0;31m\u001b[0;34m\u001b[0m\u001b[0m\n",
      "\u001b[0m\u001b[0;32m     34 \u001b[0;31m    \u001b[0msparse_dm\u001b[0m \u001b[0;34m=\u001b[0m \u001b[0mconstruct_sparse_dm\u001b[0m\u001b[0;34m(\u001b[0m\u001b[0mha_dists\u001b[0m\u001b[0;34m,\u001b[0m \u001b[0m_ha_lidxs\u001b[0m\u001b[0;34m,\u001b[0m \u001b[0mn_atoms\u001b[0m\u001b[0;34m=\u001b[0m\u001b[0;36m9\u001b[0m\u001b[0;34m,\u001b[0m \u001b[0mn_neighs\u001b[0m\u001b[0;34m=\u001b[0m\u001b[0;36m4\u001b[0m\u001b[0;34m)\u001b[0m\u001b[0;34m\u001b[0m\u001b[0;34m\u001b[0m\u001b[0m\n",
      "\u001b[0m\n"
     ]
    },
    {
     "name": "stdin",
     "output_type": "stream",
     "text": [
      "ipdb>  ha_dists\n"
     ]
    },
    {
     "name": "stdout",
     "output_type": "stream",
     "text": [
      "[array([1.50810294, 1.427608  , 1.53775736, 1.53445536, 2.62658106,\n",
      "       2.4587894 , 2.38146468, 2.50751839, 2.5014679 , 1.36075965,\n",
      "       1.36483552, 2.43775567, 2.35871884, 2.90802274, 3.63794665,\n",
      "       2.52940696, 3.72368396, 2.9030692 , 3.54678494, 3.13493141,\n",
      "       2.23100009]), array([1.50810294, 1.36075965, 1.36483552, 2.38146468, 2.50751839,\n",
      "       2.5014679 , 2.19578119, 2.23951927, 2.62658106, 2.4587894 ,\n",
      "       1.427608  , 1.53775736, 1.53445536, 3.61208007, 3.73503437,\n",
      "       2.23100009, 2.90802274, 3.72368396, 3.54678494, 2.23114235,\n",
      "       1.43508055, 3.63794665, 2.9030692 , 3.13493141, 1.36277714,\n",
      "       2.23252109, 2.43775567, 2.35871884, 4.56011517, 4.2840969 ,\n",
      "       2.52940696, 4.17038568, 4.5965294 , 4.29224973, 4.53259135,\n",
      "       1.35629504]), array([1.36673634, 1.36149884, 2.20057792, 2.2447165 , 1.48937914,\n",
      "       2.22973354, 1.36325034, 2.23395614, 2.43349695, 2.23249647,\n",
      "       1.43682558, 2.62045787, 1.35855263, 3.59203511, 3.72392626]), array([1.36673634, 1.36149884, 2.20057792, 2.2447165 , 1.48937914,\n",
      "       2.22973354, 1.36325034, 2.23395614, 2.43349695, 2.23249647,\n",
      "       1.43682558, 2.62045787, 1.35855263, 3.59203511, 3.72392626]), array([1.42752717, 1.53503779, 1.55320079, 1.54044782, 2.47515746,\n",
      "       2.41379673, 2.42760022, 2.4550395 , 2.51989032, 2.39498741]), array([1.42752717, 1.53503779, 1.55320079, 1.54044782, 2.47515746,\n",
      "       2.41379673, 2.42760022, 2.4550395 , 2.51989032, 2.39498741]), array([1.42752717, 1.53503779, 1.55320079, 1.54044782, 2.47515746,\n",
      "       2.41379673, 2.42760022, 2.4550395 , 2.51989032, 2.39498741]), array([1.36089009, 1.36527548, 2.23613269, 2.2320749 , 2.19300357,\n",
      "       2.23568902, 1.35740088, 1.36141399, 2.23592748, 1.43682952]), array([1.36089009, 1.36527548, 2.23613269, 2.2320749 , 2.19300357,\n",
      "       2.23568902, 1.35740088, 1.36141399, 2.23592748, 1.43682952])]\n"
     ]
    },
    {
     "name": "stdin",
     "output_type": "stream",
     "text": [
      "ipdb>  ha_dists[0]\n"
     ]
    },
    {
     "name": "stdout",
     "output_type": "stream",
     "text": [
      "array([1.50810294, 1.427608  , 1.53775736, 1.53445536, 2.62658106,\n",
      "       2.4587894 , 2.38146468, 2.50751839, 2.5014679 , 1.36075965,\n",
      "       1.36483552, 2.43775567, 2.35871884, 2.90802274, 3.63794665,\n",
      "       2.52940696, 3.72368396, 2.9030692 , 3.54678494, 3.13493141,\n",
      "       2.23100009])\n"
     ]
    },
    {
     "name": "stdin",
     "output_type": "stream",
     "text": [
      "ipdb>  len(ha_dists[0])\n"
     ]
    },
    {
     "name": "stdout",
     "output_type": "stream",
     "text": [
      "21\n"
     ]
    },
    {
     "name": "stdin",
     "output_type": "stream",
     "text": [
      "ipdb>  ha_dists[1]\n"
     ]
    },
    {
     "name": "stdout",
     "output_type": "stream",
     "text": [
      "array([1.50810294, 1.36075965, 1.36483552, 2.38146468, 2.50751839,\n",
      "       2.5014679 , 2.19578119, 2.23951927, 2.62658106, 2.4587894 ,\n",
      "       1.427608  , 1.53775736, 1.53445536, 3.61208007, 3.73503437,\n",
      "       2.23100009, 2.90802274, 3.72368396, 3.54678494, 2.23114235,\n",
      "       1.43508055, 3.63794665, 2.9030692 , 3.13493141, 1.36277714,\n",
      "       2.23252109, 2.43775567, 2.35871884, 4.56011517, 4.2840969 ,\n",
      "       2.52940696, 4.17038568, 4.5965294 , 4.29224973, 4.53259135,\n",
      "       1.35629504])\n"
     ]
    },
    {
     "name": "stdin",
     "output_type": "stream",
     "text": [
      "ipdb>  len(ha_dists[1])\n"
     ]
    },
    {
     "name": "stdout",
     "output_type": "stream",
     "text": [
      "36\n"
     ]
    },
    {
     "name": "stdin",
     "output_type": "stream",
     "text": [
      "ipdb>  exit\n"
     ]
    }
   ],
   "source": [
    "%debug"
   ]
  },
  {
   "cell_type": "code",
   "execution_count": 118,
   "metadata": {},
   "outputs": [],
   "source": [
    "import os\n",
    "import subprocess\n",
    "\n",
    "import numpy as np\n",
    "from tqdm import tqdm\n",
    "\n",
    "from g2s.utils import vector_to_square\n",
    "\n",
    "\n",
    "class DGSOL:\n",
    "    \"\"\"\n",
    "    Wrapper class for the Distance Geometry Solver (DGSOL)\n",
    "\n",
    "    Embeds points in cartesian space given a distance boundary.\n",
    "\n",
    "    To read more about DGSOl visit: https://www.mcs.anl.gov/~more/dgsol/\n",
    "    \"\"\"\n",
    "    def __init__(self, distances, nuclear_charges, vectorized_input=True):\n",
    "        \"\"\"\n",
    "\n",
    "        Parameters\n",
    "        ----------\n",
    "        distances: np.array\n",
    "            Either a symmetric (n, n) distance matrix or its vectorized form.\n",
    "        nuclear_charges: np.array, shape n\n",
    "            Nucelear charges of the system\n",
    "        vectorized_input: bool (default=True)\n",
    "            Whether the distance matrix is in its vectorized form or not.\n",
    "            If True, converts distance matrix to its symmetric form.\n",
    "        \"\"\"\n",
    "        self.nuclear_charges = nuclear_charges\n",
    "        self.distances = vector_to_square(distances) if vectorized_input else distances\n",
    "        self.coords = None\n",
    "        self.c_errors = None\n",
    "\n",
    "    def gen_cerror_overview(self):\n",
    "        \"\"\"\n",
    "        Prints overview of DGSOl reconstruction errors\n",
    "        \"\"\"\n",
    "        print('Error Type, Min, Mean, Max')\n",
    "        print(f'minError: {np.min(self.c_errors[:, 1])}, {np.mean(self.c_errors[:, 1])}, {np.max(self.c_errors[:, 1])}')\n",
    "        print(f'avgError: {np.min(self.c_errors[:, 2])}, {np.mean(self.c_errors[:, 2])}, {np.max(self.c_errors[:, 2])}')\n",
    "        print(f'maxError: {np.min(self.c_errors[:, 2])}, {np.mean(self.c_errors[:, 3])}, {np.max(self.c_errors[:, 3])}')\n",
    "\n",
    "    def to_scientific_notation(self, number):\n",
    "        \"\"\"\n",
    "        Converts numbers to DGSOL notation.\n",
    "\n",
    "        Parameters\n",
    "        ----------\n",
    "        number: float\n",
    "\n",
    "        Returns\n",
    "        -------\n",
    "        Number in DGSOL notation, e.g. 1e10\n",
    "        \"\"\"\n",
    "        a, b = '{:.17E}'.format(number).split('E')\n",
    "        num = '{:.12f}E{:+03d}'.format(float(a) / 10, int(b) + 1)\n",
    "        return num[1:]\n",
    "\n",
    "    def write_dgsol_input(self, distances, outpath):\n",
    "        \"\"\"\n",
    "        Input file writer for DGSOL.\n",
    "        Basically writes 4 columns such as\n",
    "        Atom_i   Atom_j  lower_bound       upper_bound\n",
    "        1         2   .139169904722E+01   .139169904722E+01\n",
    "        1         3   .237179033727E+01   .237179033727E+01\n",
    "        1         4   .331764447534E+01   .331764447534E+01\n",
    "        1         5   .200997900174E+01   .200997900174E+01\n",
    "\n",
    "        Parameters\n",
    "        ----------\n",
    "        distances: np.array\n",
    "            Vectorized distance matrix.\n",
    "        outpath: str\n",
    "            Directory to save input file\n",
    "\n",
    "        \"\"\"\n",
    "        n, m = np.triu_indices(distances.shape[1], k=1)\n",
    "        with open(f'{outpath}/dgsol.input', 'w') as outfile:\n",
    "            for i, j in zip(n, m):\n",
    "                upper = distances[i, j]\n",
    "                lower = distances[i, j]\n",
    "                if distances[i, j] == 0.0:\n",
    "                    upper = 20.\n",
    "                    lower = 1.\n",
    "                outfile.write(\n",
    "                    f'{i + 1:9.0f}{j + 1:10.0f}   {self.to_scientific_notation(lower)}   '\n",
    "                    f'{self.to_scientific_notation(upper)}\\n')\n",
    "\n",
    "    def parse_dgsol_coords(self, path, n_solutions, n_atoms):\n",
    "        \"\"\"\n",
    "        Parser for DGSOl output file.\n",
    "        Reads all found solutions and filters coordinates.\n",
    "\n",
    "        Parameters\n",
    "        ----------\n",
    "        path: str\n",
    "            Path to dgsol.output file.\n",
    "        n_solutions: int\n",
    "            Number of dgsol solutions.\n",
    "        n_atoms: int\n",
    "            Number of atoms.\n",
    "\n",
    "        Returns\n",
    "        -------\n",
    "        coords: np.array, shape (n, 3)\n",
    "            Coordinates of the system.\n",
    "\n",
    "        \"\"\"\n",
    "        with open(f'{path}/dgsol.output') as outfile:\n",
    "            lines = outfile.readlines()\n",
    "\n",
    "        coords = []\n",
    "        for line in lines:\n",
    "            if not line.startswith('\\n') and len(line) > 30:\n",
    "                coords.append([float(n) for n in line.split()])\n",
    "        coords = np.array(coords).reshape((n_solutions, n_atoms, 3))\n",
    "        return coords\n",
    "\n",
    "    def solve_distance_geometry(self, outpath, n_solutions=10):\n",
    "        \"\"\"\n",
    "        Interface to solve distance geometry problem.\n",
    "        Writes input for DGSOL, run's DGSOL and parses coordinates.\n",
    "\n",
    "        Parameters\n",
    "        ----------\n",
    "        outpath: str\n",
    "            Output directory to write input files and run DGSOL.\n",
    "        n_solutions: int (default=10)\n",
    "            Number of solutions to compute with DGSOL.\n",
    "\n",
    "        \"\"\"\n",
    "        construction_errors = []\n",
    "        mol_coordinates = []\n",
    "        mol_ids = np.arange(self.distances.shape[0])\n",
    "        for i, ids in tqdm(enumerate(mol_ids), total=len(mol_ids)):\n",
    "            out = f'{outpath}/{ids:04}'\n",
    "            os.makedirs(out, exist_ok=True)\n",
    "            self.write_dgsol_input(distances=self.distances[i], outpath=out)\n",
    "            self.run_dgsol(out, n_solutions=n_solutions)\n",
    "            errors = self.parse_dgsol_errors(out)\n",
    "            lowest_errors_idx = np.argsort(errors[:, 2])\n",
    "            construction_errors.append(errors[lowest_errors_idx[0]])\n",
    "            coords = self.parse_dgsol_coords(out, n_solutions, n_atoms=len(self.nuclear_charges[i]))\n",
    "            mol_coordinates.append(coords[lowest_errors_idx])\n",
    "        self.coords = np.array(mol_coordinates, dtype=object)\n",
    "        self.c_errors = np.array(construction_errors)\n",
    "\n",
    "    def run_dgsol(self, outpath, n_solutions=10):\n",
    "        \"\"\"\n",
    "        Interface to submit DGSOL as a subprocess.\n",
    "\n",
    "        Parameters\n",
    "        ----------\n",
    "        outpath: str\n",
    "            Output directory to write input files and run DGSOL.\n",
    "        n_solutions: int (default=10)\n",
    "            Number of solutions to compute with DGSOL.\n",
    "\n",
    "        \"\"\"\n",
    "        cmd = f'dgsol -s{n_solutions} {outpath}/dgsol.input {outpath}/dgsol.output {outpath}/dgsol.summary'\n",
    "        process = subprocess.Popen(cmd.split(), stdout=subprocess.PIPE)\n",
    "        output, error = process.communicate()\n",
    "        if error is not None:\n",
    "            raise UserWarning(f'{outpath} produced the following error: {error}')\n",
    "\n",
    "    def parse_dgsol_errors(self, outpath):\n",
    "        \"\"\"\n",
    "        Parses DGSOL Errors.\n",
    "\n",
    "        There are 4 types of errors in the dgsol output:\n",
    "\n",
    "        f_err         The value of the merit function\n",
    "        derr_min      The smallest error in the distances\n",
    "        derr_avg      The average error in the distances\n",
    "        derr_max      The largest error in the distances\n",
    "\n",
    "        Parameters\n",
    "        ----------\n",
    "        outpath: str\n",
    "            Output directory that contains dgsol.summary\n",
    "\n",
    "        Returns\n",
    "        -------\n",
    "        dgsol_erros: np.array\n",
    "            Contains DGSOL errors, shape(4)\n",
    "\n",
    "        \"\"\"\n",
    "        with open(f'{outpath}/dgsol.summary', 'r') as input:\n",
    "            lines = input.readlines()\n",
    "\n",
    "        errors = []\n",
    "        # skip the header lines\n",
    "        for line in lines[5:]:\n",
    "            errors.append(line.split()[2:])   # the first two entries are n_atoms and n_distances\n",
    "        return np.array(errors).astype('float32')\n"
   ]
  },
  {
   "cell_type": "code",
   "execution_count": 126,
   "metadata": {},
   "outputs": [
    {
     "data": {
      "text/plain": [
       "True"
      ]
     },
     "execution_count": 126,
     "metadata": {},
     "output_type": "execute_result"
    }
   ],
   "source": [
    "DistanceGeometry.DoTriangleSmoothing(np.array(sparse_dm))"
   ]
  },
  {
   "cell_type": "code",
   "execution_count": 127,
   "metadata": {},
   "outputs": [
    {
     "data": {
      "text/plain": [
       "array([[ 0.        ,  1.50037144,  2.48781483,  2.44912334,  1.50934705,\n",
       "         1.50612952,  1.41130392, 20.        , 20.        ],\n",
       "       [ 1.50037144,  0.        ,  1.36027527,  1.36557383,  2.57810427,\n",
       "         2.57507903,  2.4475576 ,  2.1940352 ,  2.2387659 ],\n",
       "       [ 2.48781483,  1.36027527,  0.        ,  2.23104404, 20.        ,\n",
       "        20.        , 20.        ,  2.30922595,  1.43453469],\n",
       "       [ 2.44912334,  1.36557383,  2.23104404,  0.        , 20.        ,\n",
       "        20.        , 20.        ,  1.36047843,  2.23276149],\n",
       "       [ 1.50934705,  2.57810427,  1.        ,  1.        ,  0.        ,\n",
       "         2.63257257,  2.4980085 , 20.        , 20.        ],\n",
       "       [ 1.50612952,  2.57507903,  1.        ,  1.        ,  2.63257257,\n",
       "         0.        ,  2.48618292, 20.        , 20.        ],\n",
       "       [ 1.41130392,  2.4475576 ,  1.        ,  1.        ,  2.4980085 ,\n",
       "         2.48618292,  0.        , 20.        , 20.        ],\n",
       "       [ 1.        ,  2.1940352 ,  2.30922595,  1.36047843,  1.        ,\n",
       "         1.        ,  1.        ,  0.        ,  1.3564089 ],\n",
       "       [ 1.        ,  2.2387659 ,  1.43453469,  2.23276149,  1.        ,\n",
       "         1.        ,  1.        ,  1.3564089 ,  0.        ]])"
      ]
     },
     "execution_count": 127,
     "metadata": {},
     "output_type": "execute_result"
    }
   ],
   "source": [
    "sparse_dm"
   ]
  },
  {
   "cell_type": "code",
   "execution_count": 128,
   "metadata": {},
   "outputs": [
    {
     "name": "stderr",
     "output_type": "stream",
     "text": [
      "\n",
      "\n",
      "  0%|          | 0/1 [00:00<?, ?it/s]\u001b[A\u001b[A\n",
      "\n",
      "100%|██████████| 1/1 [00:00<00:00,  8.24it/s]\u001b[A\u001b[A\n"
     ]
    }
   ],
   "source": [
    "dgsol = DGSOL(np.array([sparse_dm]),   np.array([mol_envs[0]['nuclear_charges'][mol_envs[0]['heavy_atom_idxs']]]), vectorized_input=False)\n",
    "dgsol.solve_distance_geometry('./test_const_iso_heavy', n_solutions=20)"
   ]
  },
  {
   "cell_type": "code",
   "execution_count": 150,
   "metadata": {},
   "outputs": [
    {
     "data": {
      "text/plain": [
       "array([ 308,  312,  315,  317,  332,  407,  408,  410,  411,  412,  417,\n",
       "        421,  529,  530,  531,  637,  638,  639,  640, 2471, 3173, 3445,\n",
       "       3505, 3506, 3890, 4208, 4323, 4325, 4337, 4519])"
      ]
     },
     "execution_count": 150,
     "metadata": {},
     "output_type": "execute_result"
    }
   ],
   "source": [
    "np.where(dgsol.c_errors[:, 0] > 1.0)[0]"
   ]
  },
  {
   "cell_type": "code",
   "execution_count": 24,
   "metadata": {},
   "outputs": [],
   "source": [
    "outdir = sorted(glob('./test_const_iso_heavy/*'))\n"
   ]
  },
  {
   "cell_type": "code",
   "execution_count": 129,
   "metadata": {},
   "outputs": [],
   "source": [
    "outdir = sorted(glob('./test_const_iso_heavy/*'))[:1]\n",
    "n_confs = 10\n",
    "for i, e in enumerate(outdir):\n",
    "    for j in range(n_confs):\n",
    "        g2s.utils.write_xyz(f'{e}/dgsol_conf_{j}.xyz', dgsol.coords[i][j], dgsol.nuclear_charges[i])"
   ]
  },
  {
   "cell_type": "code",
   "execution_count": 26,
   "metadata": {},
   "outputs": [
    {
     "data": {
      "application/3dmoljs_load.v0": "<div id=\"3dmolviewer_1615389837361867\"  style=\"position: relative; width: 400px; height: 400px\">\n        <p id=\"3dmolwarning_1615389837361867\" style=\"background-color:#ffcccc;color:black\">You appear to be running in JupyterLab (or JavaScript failed to load for some other reason).  You need to install the 3dmol extension: <br>\n        <tt>jupyter labextension install jupyterlab_3dmol</tt></p>\n        </div>\n<script>\n\nvar loadScriptAsync = function(uri){\n  return new Promise((resolve, reject) => {\n    var tag = document.createElement('script');\n    tag.src = uri;\n    tag.async = true;\n    tag.onload = () => {\n      resolve();\n    };\n  var firstScriptTag = document.getElementsByTagName('script')[0];\n  firstScriptTag.parentNode.insertBefore(tag, firstScriptTag);\n});\n};\n\nif(typeof $3Dmolpromise === 'undefined') {\n$3Dmolpromise = null;\n  $3Dmolpromise = loadScriptAsync('https://3dmol.org/build/3Dmol.js');\n}\n\nvar viewer_1615389837361867 = null;\nvar warn = document.getElementById(\"3dmolwarning_1615389837361867\");\nif(warn) {\n    warn.parentNode.removeChild(warn);\n}\n$3Dmolpromise.then(function() {\nviewer_1615389837361867 = $3Dmol.createViewer($(\"#3dmolviewer_1615389837361867\"),{backgroundColor:\"white\"});\nviewer_1615389837361867.zoomTo();\n\tviewer_1615389837361867.addModel(\"9\\n\\nC\\t-0.146806483\\t-1.17143505\\t0.104173845\\nC\\t-0.402389254\\t0.242908892\\t0.562097379\\nC\\t0.381824669\\t1.35781728\\t0.518527872\\nO\\t-1.60673317\\t0.542303609\\t1.11857321\\nC\\t-0.59357908\\t-2.1612736\\t1.19198159\\nC\\t-0.931970554\\t-1.45613674\\t-1.18368531\\nO\\t1.24769011\\t-1.33464325\\t-0.170133731\\nC\\t-1.58814046\\t1.86787267\\t1.43631694\\nC\\t-0.396072034\\t2.4202847\\t1.09139595\\n\",\"xyz\");\n\tviewer_1615389837361867.setStyle({\"stick\": {\"colorscheme\": \"cyanCarbon\"}});\n\tviewer_1615389837361867.zoomTo();\nviewer_1615389837361867.render();\n});\n</script>",
      "text/html": [
       "<div id=\"3dmolviewer_1615389837361867\"  style=\"position: relative; width: 400px; height: 400px\">\n",
       "        <p id=\"3dmolwarning_1615389837361867\" style=\"background-color:#ffcccc;color:black\">You appear to be running in JupyterLab (or JavaScript failed to load for some other reason).  You need to install the 3dmol extension: <br>\n",
       "        <tt>jupyter labextension install jupyterlab_3dmol</tt></p>\n",
       "        </div>\n",
       "<script>\n",
       "\n",
       "var loadScriptAsync = function(uri){\n",
       "  return new Promise((resolve, reject) => {\n",
       "    var tag = document.createElement('script');\n",
       "    tag.src = uri;\n",
       "    tag.async = true;\n",
       "    tag.onload = () => {\n",
       "      resolve();\n",
       "    };\n",
       "  var firstScriptTag = document.getElementsByTagName('script')[0];\n",
       "  firstScriptTag.parentNode.insertBefore(tag, firstScriptTag);\n",
       "});\n",
       "};\n",
       "\n",
       "if(typeof $3Dmolpromise === 'undefined') {\n",
       "$3Dmolpromise = null;\n",
       "  $3Dmolpromise = loadScriptAsync('https://3dmol.org/build/3Dmol.js');\n",
       "}\n",
       "\n",
       "var viewer_1615389837361867 = null;\n",
       "var warn = document.getElementById(\"3dmolwarning_1615389837361867\");\n",
       "if(warn) {\n",
       "    warn.parentNode.removeChild(warn);\n",
       "}\n",
       "$3Dmolpromise.then(function() {\n",
       "viewer_1615389837361867 = $3Dmol.createViewer($(\"#3dmolviewer_1615389837361867\"),{backgroundColor:\"white\"});\n",
       "viewer_1615389837361867.zoomTo();\n",
       "\tviewer_1615389837361867.addModel(\"9\\n\\nC\\t-0.146806483\\t-1.17143505\\t0.104173845\\nC\\t-0.402389254\\t0.242908892\\t0.562097379\\nC\\t0.381824669\\t1.35781728\\t0.518527872\\nO\\t-1.60673317\\t0.542303609\\t1.11857321\\nC\\t-0.59357908\\t-2.1612736\\t1.19198159\\nC\\t-0.931970554\\t-1.45613674\\t-1.18368531\\nO\\t1.24769011\\t-1.33464325\\t-0.170133731\\nC\\t-1.58814046\\t1.86787267\\t1.43631694\\nC\\t-0.396072034\\t2.4202847\\t1.09139595\\n\",\"xyz\");\n",
       "\tviewer_1615389837361867.setStyle({\"stick\": {\"colorscheme\": \"cyanCarbon\"}});\n",
       "\tviewer_1615389837361867.zoomTo();\n",
       "viewer_1615389837361867.render();\n",
       "});\n",
       "</script>"
      ]
     },
     "metadata": {},
     "output_type": "display_data"
    }
   ],
   "source": [
    "import py3Dmol\n",
    "with open(f'{outdir[0]}/dgsol.xyz', 'r') as infile:\n",
    "    xyz_pred = infile.readlines()\n",
    "xyz_pred = ''.join(xyz_pred)\n",
    "with open(f'{ci_path[0]}', 'r') as infile:\n",
    "    xyz_ref = infile.readlines()\n",
    "    xyz_ref = ''.join(xyz_ref)\n",
    "xyzview = py3Dmol.view(width=400,height=400)\n",
    "xyzview.addModel(xyz_pred,'xyz')\n",
    "#xyzview.addModel(xyz_ref,'xyz')\n",
    "xyzview.setStyle({'stick':{'colorscheme':'cyanCarbon'}})\n",
    "xyzview.zoomTo()\n",
    "xyzview.show()"
   ]
  },
  {
   "cell_type": "code",
   "execution_count": 145,
   "metadata": {},
   "outputs": [
    {
     "data": {
      "text/plain": [
       "'/Users/c0uch1/work/g2g_data/qm9/H10C7O2/dsgdb9nsd_6085.xyz'"
      ]
     },
     "execution_count": 145,
     "metadata": {},
     "output_type": "execute_result"
    }
   ],
   "source": [
    "ci_path[6085]"
   ]
  },
  {
   "cell_type": "code",
   "execution_count": 65,
   "metadata": {},
   "outputs": [
    {
     "data": {
      "text/plain": [
       "True"
      ]
     },
     "execution_count": 65,
     "metadata": {},
     "output_type": "execute_result"
    }
   ],
   "source": [
    "from rdkit import DistanceGeometry\n",
    "DistanceGeometry.DoTriangleSmoothing(test_dm)"
   ]
  },
  {
   "cell_type": "code",
   "execution_count": 68,
   "metadata": {},
   "outputs": [
    {
     "data": {
      "text/plain": [
       "array([[  0.        ,   0.        ,   0.        ,   0.        ,\n",
       "          0.        ,   0.        ,   0.        , -16.28011968,\n",
       "        -16.2339024 ],\n",
       "       [  0.        ,   0.        ,   0.        ,   0.        ,\n",
       "          0.        ,   0.        ,   0.        ,   0.        ,\n",
       "          0.        ],\n",
       "       [  0.        ,   0.        ,   0.        ,   0.        ,\n",
       "        -16.24789762, -16.24789762, -16.22033736,   0.        ,\n",
       "          0.        ],\n",
       "       [  0.        ,   0.        ,   0.        ,   0.        ,\n",
       "        -16.2442191 , -16.2442191 , -16.21665883,   0.        ,\n",
       "          0.        ],\n",
       "       [  0.        ,   0.        ,   0.03186197,   0.02818345,\n",
       "          0.        , -16.92065534,   0.        , -15.4150292 ,\n",
       "        -15.36881192],\n",
       "       [  0.        ,   0.        ,   0.03186197,   0.02818345,\n",
       "          0.        ,   0.        ,   0.        , -15.4150292 ,\n",
       "        -15.36881192],\n",
       "       [  0.        ,   0.        ,   0.10567223,   0.05574372,\n",
       "          0.        ,   0.        ,   0.        , -15.38746893,\n",
       "        -15.34125165],\n",
       "       [  0.08630214,   0.        ,   0.        ,   0.        ,\n",
       "          0.        ,   0.        ,   0.        ,   0.        ,\n",
       "          0.        ],\n",
       "       [  0.09669596,   0.        ,   0.        ,   0.        ,\n",
       "          0.        ,   0.        ,   0.        ,   0.        ,\n",
       "          0.        ]])"
      ]
     },
     "execution_count": 68,
     "metadata": {},
     "output_type": "execute_result"
    }
   ],
   "source": [
    "test_dm-sparse_dm"
   ]
  },
  {
   "cell_type": "code",
   "execution_count": 184,
   "metadata": {},
   "outputs": [
    {
     "data": {
      "text/plain": [
       "True"
      ]
     },
     "execution_count": 184,
     "metadata": {},
     "output_type": "execute_result"
    }
   ],
   "source": [
    "test = np.array(sparse_distances)[612].copy()\n",
    "test[0][1] = 2\n",
    "test[1][0] = 2\n",
    "\n",
    "DistanceGeometry.DoTriangleSmoothing(test)"
   ]
  },
  {
   "cell_type": "code",
   "execution_count": 185,
   "metadata": {},
   "outputs": [
    {
     "data": {
      "text/plain": [
       "array([[0.        , 0.73482977, 0.        , 0.        , 0.        ,\n",
       "        0.        , 0.        , 0.        , 0.        ],\n",
       "       [0.73482977, 0.        , 0.        , 0.        , 0.        ,\n",
       "        0.        , 0.        , 0.        , 0.        ],\n",
       "       [0.        , 0.        , 0.        , 0.        , 0.        ,\n",
       "        0.        , 0.        , 0.        , 0.        ],\n",
       "       [0.        , 0.        , 0.        , 0.        , 0.        ,\n",
       "        0.        , 0.        , 0.        , 0.        ],\n",
       "       [0.        , 0.        , 0.        , 0.        , 0.        ,\n",
       "        0.        , 0.        , 0.        , 0.        ],\n",
       "       [0.        , 0.        , 0.        , 0.        , 0.        ,\n",
       "        0.        , 0.        , 0.        , 0.        ],\n",
       "       [0.        , 0.        , 0.        , 0.        , 0.        ,\n",
       "        0.        , 0.        , 0.        , 0.        ],\n",
       "       [0.        , 0.        , 0.        , 0.        , 0.        ,\n",
       "        0.        , 0.        , 0.        , 0.        ],\n",
       "       [0.        , 0.        , 0.        , 0.        , 0.        ,\n",
       "        0.        , 0.        , 0.        , 0.        ]])"
      ]
     },
     "execution_count": 185,
     "metadata": {},
     "output_type": "execute_result"
    }
   ],
   "source": [
    "np.array(sparse_distances)[612]-test"
   ]
  },
  {
   "cell_type": "code",
   "execution_count": 175,
   "metadata": {},
   "outputs": [
    {
     "data": {
      "text/plain": [
       "0.0"
      ]
     },
     "execution_count": 175,
     "metadata": {},
     "output_type": "execute_result"
    }
   ],
   "source": [
    "test[0][1] - test[0][1]"
   ]
  },
  {
   "cell_type": "code",
   "execution_count": 70,
   "metadata": {},
   "outputs": [],
   "source": [
    "import os\n",
    "import subprocess\n",
    "\n",
    "import numpy as np\n",
    "from tqdm import tqdm\n",
    "\n",
    "from g2s.utils import vector_to_square\n",
    "\n",
    "\n",
    "class DGSOL:\n",
    "    \"\"\"\n",
    "    Wrapper class for the Distance Geometry Solver (DGSOL)\n",
    "\n",
    "    Embeds points in cartesian space given a distance boundary.\n",
    "\n",
    "    To read more about DGSOl visit: https://www.mcs.anl.gov/~more/dgsol/\n",
    "    \"\"\"\n",
    "    def __init__(self, distances, nuclear_charges, vectorized_input=True):\n",
    "        \"\"\"\n",
    "\n",
    "        Parameters\n",
    "        ----------\n",
    "        distances: np.array\n",
    "            Either a symmetric (n, n) distance matrix or its vectorized form.\n",
    "        nuclear_charges: np.array, shape n\n",
    "            Nucelear charges of the system\n",
    "        vectorized_input: bool (default=True)\n",
    "            Whether the distance matrix is in its vectorized form or not.\n",
    "            If True, converts distance matrix to its symmetric form.\n",
    "        \"\"\"\n",
    "        self.nuclear_charges = nuclear_charges\n",
    "        self.distances = vector_to_square(distances) if vectorized_input else distances\n",
    "        self.coords = None\n",
    "        self.c_errors = None\n",
    "\n",
    "    def gen_cerror_overview(self):\n",
    "        \"\"\"\n",
    "        Prints overview of DGSOl reconstruction errors\n",
    "        \"\"\"\n",
    "        print('Error Type, Min, Mean, Max')\n",
    "        print(f'minError: {np.min(self.c_errors[:, 1])}, {np.mean(self.c_errors[:, 1])}, {np.max(self.c_errors[:, 1])}')\n",
    "        print(f'avgError: {np.min(self.c_errors[:, 2])}, {np.mean(self.c_errors[:, 2])}, {np.max(self.c_errors[:, 2])}')\n",
    "        print(f'maxError: {np.min(self.c_errors[:, 2])}, {np.mean(self.c_errors[:, 3])}, {np.max(self.c_errors[:, 3])}')\n",
    "\n",
    "    def to_scientific_notation(self, number):\n",
    "        \"\"\"\n",
    "        Converts numbers to DGSOL notation.\n",
    "\n",
    "        Parameters\n",
    "        ----------\n",
    "        number: float\n",
    "\n",
    "        Returns\n",
    "        -------\n",
    "        Number in DGSOL notation, e.g. 1e10\n",
    "        \"\"\"\n",
    "        a, b = '{:.17E}'.format(number).split('E')\n",
    "        num = '{:.12f}E{:+03d}'.format(float(a) / 10, int(b) + 1)\n",
    "        return num[1:]\n",
    "\n",
    "    def write_dgsol_input(self, distances, outpath):\n",
    "        \"\"\"\n",
    "        Input file writer for DGSOL.\n",
    "        Basically writes 4 columns such as\n",
    "        Atom_i   Atom_j  lower_bound       upper_bound\n",
    "        1         2   .139169904722E+01   .139169904722E+01\n",
    "        1         3   .237179033727E+01   .237179033727E+01\n",
    "        1         4   .331764447534E+01   .331764447534E+01\n",
    "        1         5   .200997900174E+01   .200997900174E+01\n",
    "\n",
    "        Parameters\n",
    "        ----------\n",
    "        distances: np.array\n",
    "            Vectorized distance matrix.\n",
    "        outpath: str\n",
    "            Directory to save input file\n",
    "\n",
    "        \"\"\"\n",
    "        n, m = np.triu_indices(distances.shape[1], k=1)\n",
    "        with open(f'{outpath}/dgsol.input', 'w') as outfile:\n",
    "            for i, j in zip(n, m):\n",
    "                upper = distances[i, j]\n",
    "                lower = distances[i, j]\n",
    "                if distances[i, j] == 0.0:\n",
    "                    upper = 20.\n",
    "                    lower = 1.\n",
    "                outfile.write(\n",
    "                    f'{i + 1},{j + 1},{lower},'\n",
    "                    f'{upper}\\n')"
   ]
  },
  {
   "cell_type": "code",
   "execution_count": 71,
   "metadata": {},
   "outputs": [],
   "source": [
    "dgsol = DGSOL(np.array(sparse_distances),   np.array(mol_nuclear_charges), vectorized_input=False)"
   ]
  },
  {
   "cell_type": "code",
   "execution_count": 80,
   "metadata": {},
   "outputs": [],
   "source": [
    "dgsol.write_dgsol_input(np.array(sparse_dm), 'test_const_iso_heavy/0000')"
   ]
  },
  {
   "cell_type": "code",
   "execution_count": 74,
   "metadata": {},
   "outputs": [
    {
     "data": {
      "text/plain": [
       "array([1.09669596, 2.23920591, 1.43695095, 2.23438014, 1.        ,\n",
       "       1.        , 1.        , 1.35912263, 0.        ])"
      ]
     },
     "execution_count": 74,
     "metadata": {},
     "output_type": "execute_result"
    }
   ],
   "source": [
    "test_dm[8]"
   ]
  },
  {
   "cell_type": "code",
   "execution_count": 193,
   "metadata": {},
   "outputs": [
    {
     "data": {
      "text/plain": [
       "array([[0.        , 1.51948622, 2.62351947, 2.44614317, 1.54084022,\n",
       "        1.53696883, 1.42755951, 3.59871676, 3.72762897],\n",
       "       [1.51948622, 0.        , 1.36055531, 1.36488488, 2.46402064,\n",
       "        2.4745706 , 2.41313606, 2.19658883, 2.24011376],\n",
       "       [2.62351947, 1.36055531, 0.        , 2.23161247, 3.72368396,\n",
       "        3.54678494, 2.90802274, 2.23355036, 1.43647815],\n",
       "       [2.44614317, 1.36488488, 2.23161247, 0.        , 2.9030692 ,\n",
       "        3.13493141, 3.63794665, 1.36308868, 2.23372819],\n",
       "       [1.54084022, 2.46402064, 3.72368396, 2.9030692 , 0.        ,\n",
       "        2.49871639, 2.43841315, 4.17038568, 4.5965294 ],\n",
       "       [1.53696883, 2.4745706 , 3.54678494, 3.13493141, 2.49871639,\n",
       "        0.        , 2.40955912, 4.29224973, 4.53259135],\n",
       "       [1.42755951, 2.41313606, 2.90802274, 3.63794665, 2.43841315,\n",
       "        2.40955912, 0.        , 4.56011517, 4.2840969 ],\n",
       "       [3.59871676, 2.19658883, 2.23355036, 1.36308868, 4.17038568,\n",
       "        4.29224973, 4.56011517, 0.        , 1.35844303],\n",
       "       [3.72762897, 2.24011376, 1.43647815, 2.23372819, 4.5965294 ,\n",
       "        4.53259135, 4.2840969 , 1.35844303, 0.        ]])"
      ]
     },
     "execution_count": 193,
     "metadata": {},
     "output_type": "execute_result"
    }
   ],
   "source": [
    "np.array(sparse_distances)[0]"
   ]
  },
  {
   "cell_type": "code",
   "execution_count": 79,
   "metadata": {},
   "outputs": [
    {
     "data": {
      "text/plain": [
       "array([[0.        , 1.52689169, 2.5336469 , 2.44934196, 1.53965439,\n",
       "        1.53969027, 1.42797468, 0.        , 0.        ],\n",
       "       [1.52689169, 0.        , 1.3601202 , 1.36379872, 2.39198217,\n",
       "        2.39198217, 2.41954244, 2.19298863, 2.23920591],\n",
       "       [2.5336469 , 1.3601202 , 0.        , 2.24483405, 0.        ,\n",
       "        0.        , 0.        , 2.23920591, 1.43695095],\n",
       "       [2.44934196, 1.36379872, 2.24483405, 0.        , 0.        ,\n",
       "        0.        , 0.        , 1.36303982, 2.23438014],\n",
       "       [1.53965439, 2.39198217, 0.        , 0.        , 0.        ,\n",
       "        0.        , 2.42162928, 0.        , 0.        ],\n",
       "       [1.53969027, 2.39198217, 0.        , 0.        , 0.        ,\n",
       "        0.        , 2.41328194, 0.        , 0.        ],\n",
       "       [1.42797468, 2.41954244, 0.        , 0.        , 2.42162928,\n",
       "        2.41328194, 0.        , 0.        , 0.        ],\n",
       "       [0.        , 2.19298863, 2.23920591, 1.36303982, 0.        ,\n",
       "        0.        , 0.        , 0.        , 1.35912263],\n",
       "       [0.        , 2.23920591, 1.43695095, 2.23438014, 0.        ,\n",
       "        0.        , 0.        , 1.35912263, 0.        ]])"
      ]
     },
     "execution_count": 79,
     "metadata": {},
     "output_type": "execute_result"
    }
   ],
   "source": [
    "sparse_dm"
   ]
  },
  {
   "cell_type": "code",
   "execution_count": null,
   "metadata": {},
   "outputs": [],
   "source": []
  }
 ],
 "metadata": {
  "kernelspec": {
   "display_name": "Python 3",
   "language": "python",
   "name": "python3"
  },
  "language_info": {
   "codemirror_mode": {
    "name": "ipython",
    "version": 3
   },
   "file_extension": ".py",
   "mimetype": "text/x-python",
   "name": "python",
   "nbconvert_exporter": "python",
   "pygments_lexer": "ipython3",
   "version": "3.7.6"
  }
 },
 "nbformat": 4,
 "nbformat_minor": 4
}
