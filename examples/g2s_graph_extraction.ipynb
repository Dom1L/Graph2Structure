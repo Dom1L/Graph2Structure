{
 "cells": [
  {
   "cell_type": "markdown",
   "metadata": {},
   "source": [
    "# Extracting Graphs from Data"
   ]
  },
  {
   "cell_type": "code",
   "execution_count": null,
   "metadata": {},
   "outputs": [],
   "source": [
    "import os\n",
    "from glob import glob\n",
    "\n",
    "from g2s.graph_extractor import xyz2mol_graph, smiles_graph, xtb_graph\n",
    "from g2s.utils import calculate_distances"
   ]
  },
  {
   "cell_type": "markdown",
   "metadata": {},
   "source": [
    "Graph-To-Structure has some tools that can help to extract graphs from xyz files or SMILES.\n",
    "\n",
    "Beware that extracting the bond order matrix from xyz or even SMILES is not an easy task since\n",
    "different graphs solutions are possible (especially w.r.t. aromaticity and/or resonance structures).\n",
    "\n",
    "Please be careful when using these tools! It might happen that bonds are detected inconsistently or not at all!"
   ]
  },
  {
   "cell_type": "code",
   "execution_count": null,
   "metadata": {},
   "outputs": [],
   "source": [
    "example_dir = os.getcwd()\n",
    "example_molecules = sorted(glob(f'{example_dir}}/../tests/test_files/*.xyz'))\n",
    "example_smiles = ['CCF', \n",
    "                  'N[C@@H](CBr)[N+](=O)[O-]', \n",
    "                  'C[C@@H]([N+](=O)[O-])C(Br)(C#N)C#N', \n",
    "                  'C[C@H](F)[C@@H](N)[N+](=O)[O-]', \n",
    "                  'CC(N)(N)F']"
   ]
  },
  {
   "cell_type": "markdown",
   "metadata": {},
   "source": [
    "## xyz2Mol"
   ]
  },
  {
   "cell_type": "code",
   "execution_count": null,
   "metadata": {},
   "outputs": [],
   "source": [
    "xyz2mol_bo = []\n",
    "xyz2mol_nuclear_charges = []\n",
    "xyz2mol_distances = []\n",
    "\n",
    "for mol in example_molecules:\n",
    "\n",
    "    bond_order_matrix, nc, coord = xyz2mol_graph(mol)\n",
    "    distances.append(calculate_distances(coord))\n",
    "    xyz2mol_bo.append(bond_order_matrix)\n",
    "    xyz2mol_nuclear_charges.append(nc)"
   ]
  },
  {
   "cell_type": "markdown",
   "metadata": {},
   "source": [
    "## xTB (Wiberg Bond Orders)"
   ]
  },
  {
   "cell_type": "code",
   "execution_count": null,
   "metadata": {},
   "outputs": [],
   "source": [
    "xtb_bo = []\n",
    "xtb_nuclear_charges = []\n",
    "xtb_distances = []\n",
    "\n",
    "for mol in example_molecules:\n",
    "\n",
    "    bond_order_matrix, nc, coord = xtb_graph(mol, outpath=f'{example_dir}/')\n",
    "    xtb_distances.append(calculate_distances(coord))\n",
    "    xtb_bo.append(bond_order_matrix)\n",
    "    xtb_nuclear_charges.append(nc)"
   ]
  },
  {
   "cell_type": "markdown",
   "metadata": {},
   "source": [
    "## SMILES (using RDkit)"
   ]
  },
  {
   "cell_type": "code",
   "execution_count": null,
   "metadata": {},
   "outputs": [],
   "source": [
    "smiles_bo = []\n",
    "smiles_nuclear_charges = []\n",
    "\n",
    "for smi in example_smiles:\n",
    "\n",
    "    bond_order_matrix, nc = smiles_graph(smi)\n",
    "    smiles_bo.append(bond_order_matrix)\n",
    "    smiles_nuclear_charges.append(nc)"
   ]
  }
 ],
 "metadata": {
  "kernelspec": {
   "display_name": "Python 3",
   "language": "python",
   "name": "python3"
  },
  "language_info": {
   "codemirror_mode": {
    "name": "ipython",
    "version": 3
   },
   "file_extension": ".py",
   "mimetype": "text/x-python",
   "name": "python",
   "nbconvert_exporter": "python",
   "pygments_lexer": "ipython3",
   "version": "3.7.6"
  }
 },
 "nbformat": 4,
 "nbformat_minor": 4
}
